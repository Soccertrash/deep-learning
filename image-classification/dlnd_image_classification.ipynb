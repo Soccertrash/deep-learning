{
 "cells": [
  {
   "cell_type": "markdown",
   "metadata": {
    "collapsed": true,
    "deletable": true,
    "editable": true
   },
   "source": [
    "# Image Classification\n",
    "In this project, you'll classify images from the [CIFAR-10 dataset](https://www.cs.toronto.edu/~kriz/cifar.html).  The dataset consists of airplanes, dogs, cats, and other objects. You'll preprocess the images, then train a convolutional neural network on all the samples. The images need to be normalized and the labels need to be one-hot encoded.  You'll get to apply what you learned and build a convolutional, max pooling, dropout, and fully connected layers.  At the end, you'll get to see your neural network's predictions on the sample images.\n",
    "## Get the Data\n",
    "Run the following cell to download the [CIFAR-10 dataset for python](https://www.cs.toronto.edu/~kriz/cifar-10-python.tar.gz)."
   ]
  },
  {
   "cell_type": "code",
   "execution_count": 1,
   "metadata": {
    "collapsed": false,
    "deletable": true,
    "editable": true
   },
   "outputs": [
    {
     "name": "stdout",
     "output_type": "stream",
     "text": [
      "All files found!\n"
     ]
    }
   ],
   "source": [
    "\"\"\"\n",
    "DON'T MODIFY ANYTHING IN THIS CELL THAT IS BELOW THIS LINE\n",
    "\"\"\"\n",
    "from urllib.request import urlretrieve\n",
    "from os.path import isfile, isdir\n",
    "from tqdm import tqdm\n",
    "import problem_unittests as tests\n",
    "import tarfile\n",
    "\n",
    "cifar10_dataset_folder_path = 'cifar-10-batches-py'\n",
    "\n",
    "# Use Floyd's cifar-10 dataset if present\n",
    "floyd_cifar10_location = '/input/cifar-10/python.tar.gz'\n",
    "if isfile(floyd_cifar10_location):\n",
    "    tar_gz_path = floyd_cifar10_location\n",
    "else:\n",
    "    tar_gz_path = 'cifar-10-python.tar.gz'\n",
    "\n",
    "class DLProgress(tqdm):\n",
    "    last_block = 0\n",
    "\n",
    "    def hook(self, block_num=1, block_size=1, total_size=None):\n",
    "        self.total = total_size\n",
    "        self.update((block_num - self.last_block) * block_size)\n",
    "        self.last_block = block_num\n",
    "\n",
    "if not isfile(tar_gz_path):\n",
    "    with DLProgress(unit='B', unit_scale=True, miniters=1, desc='CIFAR-10 Dataset') as pbar:\n",
    "        urlretrieve(\n",
    "            'https://www.cs.toronto.edu/~kriz/cifar-10-python.tar.gz',\n",
    "            tar_gz_path,\n",
    "            pbar.hook)\n",
    "\n",
    "if not isdir(cifar10_dataset_folder_path):\n",
    "    with tarfile.open(tar_gz_path) as tar:\n",
    "        tar.extractall()\n",
    "        tar.close()\n",
    "\n",
    "\n",
    "tests.test_folder_path(cifar10_dataset_folder_path)"
   ]
  },
  {
   "cell_type": "markdown",
   "metadata": {
    "deletable": true,
    "editable": true
   },
   "source": [
    "## Explore the Data\n",
    "The dataset is broken into batches to prevent your machine from running out of memory.  The CIFAR-10 dataset consists of 5 batches, named `data_batch_1`, `data_batch_2`, etc.. Each batch contains the labels and images that are one of the following:\n",
    "* airplane\n",
    "* automobile\n",
    "* bird\n",
    "* cat\n",
    "* deer\n",
    "* dog\n",
    "* frog\n",
    "* horse\n",
    "* ship\n",
    "* truck\n",
    "\n",
    "Understanding a dataset is part of making predictions on the data.  Play around with the code cell below by changing the `batch_id` and `sample_id`. The `batch_id` is the id for a batch (1-5). The `sample_id` is the id for a image and label pair in the batch.\n",
    "\n",
    "Ask yourself \"What are all possible labels?\", \"What is the range of values for the image data?\", \"Are the labels in order or random?\".  Answers to questions like these will help you preprocess the data and end up with better predictions."
   ]
  },
  {
   "cell_type": "code",
   "execution_count": 2,
   "metadata": {
    "collapsed": false,
    "deletable": true,
    "editable": true
   },
   "outputs": [
    {
     "name": "stdout",
     "output_type": "stream",
     "text": [
      "\n",
      "Stats of batch 5:\n",
      "Samples: 10000\n",
      "Label Counts: {0: 1014, 1: 1014, 2: 952, 3: 1016, 4: 997, 5: 1025, 6: 980, 7: 977, 8: 1003, 9: 1022}\n",
      "First 20 Labels: [1, 8, 5, 1, 5, 7, 4, 3, 8, 2, 7, 2, 0, 1, 5, 9, 6, 2, 0, 8]\n",
      "\n",
      "Example of Image 2:\n",
      "Image - Min Value: 0 Max Value: 255\n",
      "Image - Shape: (32, 32, 3)\n",
      "Label - Label Id: 5 Name: dog\n"
     ]
    },
    {
     "data": {
      "image/png": "[encoded data removed]",
      "text/plain": [
       "<matplotlib.figure.Figure at 0x7ffafc2920b8>"
      ]
     },
     "metadata": {
      "image/png": {
       "height": 250,
       "width": 253
      }
     },
     "output_type": "display_data"
    }
   ],
   "source": [
    "%matplotlib inline\n",
    "%config InlineBackend.figure_format = 'retina'\n",
    "\n",
    "import helper\n",
    "import numpy as np\n",
    "\n",
    "# Explore the dataset\n",
    "batch_id = 5\n",
    "sample_id = 2\n",
    "helper.display_stats(cifar10_dataset_folder_path, batch_id, sample_id)"
   ]
  },
  {
   "cell_type": "markdown",
   "metadata": {
    "deletable": true,
    "editable": true
   },
   "source": [
    "## Implement Preprocess Functions\n",
    "### Normalize\n",
    "In the cell below, implement the `normalize` function to take in image data, `x`, and return it as a normalized Numpy array. The values should be in the range of 0 to 1, inclusive.  The return object should be the same shape as `x`."
   ]
  },
  {
   "cell_type": "code",
   "execution_count": 3,
   "metadata": {
    "collapsed": false,
    "deletable": true,
    "editable": true
   },
   "outputs": [
    {
     "name": "stdout",
     "output_type": "stream",
     "text": [
      "Tests Passed\n"
     ]
    }
   ],
   "source": [
    "def normalize(x):\n",
    "    \"\"\"\n",
    "    Normalize a list of sample image data in the range of 0 to 1\n",
    "    : x: List of image data.  The image shape is (32, 32, 3)\n",
    "    : return: Numpy array of normalize data\n",
    "    \"\"\"\n",
    "    result = np.array(x)\n",
    "    normalize = np.vectorize(lambda x : x / 255.0)\n",
    "    return normalize(result)\n",
    "\n",
    "\n",
    "\"\"\"\n",
    "DON'T MODIFY ANYTHING IN THIS CELL THAT IS BELOW THIS LINE\n",
    "\"\"\"\n",
    "tests.test_normalize(normalize)"
   ]
  },
  {
   "cell_type": "markdown",
   "metadata": {
    "deletable": true,
    "editable": true
   },
   "source": [
    "### One-hot encode\n",
    "Just like the previous code cell, you'll be implementing a function for preprocessing.  This time, you'll implement the `one_hot_encode` function. The input, `x`, are a list of labels.  Implement the function to return the list of labels as One-Hot encoded Numpy array.  The possible values for labels are 0 to 9. The one-hot encoding function should return the same encoding for each value between each call to `one_hot_encode`.  Make sure to save the map of encodings outside the function.\n",
    "\n",
    "Hint: Don't reinvent the wheel."
   ]
  },
  {
   "cell_type": "code",
   "execution_count": 4,
   "metadata": {
    "collapsed": false,
    "deletable": true,
    "editable": true
   },
   "outputs": [
    {
     "name": "stdout",
     "output_type": "stream",
     "text": [
      "Tests Passed\n"
     ]
    }
   ],
   "source": [
    "def one_hot_encode(x):\n",
    "    \"\"\"\n",
    "    One hot encode a list of sample labels. Return a one-hot encoded vector for each label.\n",
    "    : x: List of sample Labels\n",
    "    : return: Numpy array of one-hot encoded labels\n",
    "    \"\"\"\n",
    "    length = len(x)\n",
    "    result = np.zeros([length,10])\n",
    "\n",
    "    for i,v in enumerate(x):\n",
    "        result[i][v] = 1\n",
    "    \n",
    "    return result\n",
    "\n",
    "\n",
    "\"\"\"\n",
    "DON'T MODIFY ANYTHING IN THIS CELL THAT IS BELOW THIS LINE\n",
    "\"\"\"\n",
    "tests.test_one_hot_encode(one_hot_encode)"
   ]
  },
  {
   "cell_type": "markdown",
   "metadata": {
    "deletable": true,
    "editable": true
   },
   "source": [
    "### Randomize Data\n",
    "As you saw from exploring the data above, the order of the samples are randomized.  It doesn't hurt to randomize it again, but you don't need to for this dataset."
   ]
  },
  {
   "cell_type": "markdown",
   "metadata": {
    "deletable": true,
    "editable": true
   },
   "source": [
    "## Preprocess all the data and save it\n",
    "Running the code cell below will preprocess all the CIFAR-10 data and save it to file. The code below also uses 10% of the training data for validation."
   ]
  },
  {
   "cell_type": "code",
   "execution_count": 5,
   "metadata": {
    "collapsed": false,
    "deletable": true,
    "editable": true
   },
   "outputs": [],
   "source": [
    "\"\"\"\n",
    "DON'T MODIFY ANYTHING IN THIS CELL\n",
    "\"\"\"\n",
    "# Preprocess Training, Validation, and Testing Data\n",
    "helper.preprocess_and_save_data(cifar10_dataset_folder_path, normalize, one_hot_encode)"
   ]
  },
  {
   "cell_type": "markdown",
   "metadata": {
    "deletable": true,
    "editable": true
   },
   "source": [
    "# Check Point\n",
    "This is your first checkpoint.  If you ever decide to come back to this notebook or have to restart the notebook, you can start from here.  The preprocessed data has been saved to disk."
   ]
  },
  {
   "cell_type": "code",
   "execution_count": 8,
   "metadata": {
    "collapsed": true,
    "deletable": true,
    "editable": true
   },
   "outputs": [],
   "source": [
    "\"\"\"\n",
    "DON'T MODIFY ANYTHING IN THIS CELL\n",
    "\"\"\"\n",
    "import pickle\n",
    "import problem_unittests as tests\n",
    "import helper\n",
    "\n",
    "# Load the Preprocessed Validation data\n",
    "valid_features, valid_labels = pickle.load(open('preprocess_validation.p', mode='rb'))"
   ]
  },
  {
   "cell_type": "markdown",
   "metadata": {
    "deletable": true,
    "editable": true
   },
   "source": [
    "## Build the network\n",
    "For the neural network, you'll build each layer into a function.  Most of the code you've seen has been outside of functions. To test your code more thoroughly, we require that you put each layer in a function.  This allows us to give you better feedback and test for simple mistakes using our unittests before you submit your project.\n",
    "\n",
    ">**Note:** If you're finding it hard to dedicate enough time for this course each week, we've provided a small shortcut to this part of the project. In the next couple of problems, you'll have the option to use classes from the [TensorFlow Layers](https://www.tensorflow.org/api_docs/python/tf/layers) or [TensorFlow Layers (contrib)](https://www.tensorflow.org/api_guides/python/contrib.layers) packages to build each layer, except the layers you build in the \"Convolutional and Max Pooling Layer\" section.  TF Layers is similar to Keras's and TFLearn's abstraction to layers, so it's easy to pickup.\n",
    "\n",
    ">However, if you would like to get the most out of this course, try to solve all the problems _without_ using anything from the TF Layers packages. You **can** still use classes from other packages that happen to have the same name as ones you find in TF Layers! For example, instead of using the TF Layers version of the `conv2d` class, [tf.layers.conv2d](https://www.tensorflow.org/api_docs/python/tf/layers/conv2d), you would want to use the TF Neural Network version of `conv2d`, [tf.nn.conv2d](https://www.tensorflow.org/api_docs/python/tf/nn/conv2d). \n",
    "\n",
    "Let's begin!\n",
    "\n",
    "### Input\n",
    "The neural network needs to read the image data, one-hot encoded labels, and dropout keep probability. Implement the following functions\n",
    "* Implement `neural_net_image_input`\n",
    " * Return a [TF Placeholder](https://www.tensorflow.org/api_docs/python/tf/placeholder)\n",
    " * Set the shape using `image_shape` with batch size set to `None`.\n",
    " * Name the TensorFlow placeholder \"x\" using the TensorFlow `name` parameter in the [TF Placeholder](https://www.tensorflow.org/api_docs/python/tf/placeholder).\n",
    "* Implement `neural_net_label_input`\n",
    " * Return a [TF Placeholder](https://www.tensorflow.org/api_docs/python/tf/placeholder)\n",
    " * Set the shape using `n_classes` with batch size set to `None`.\n",
    " * Name the TensorFlow placeholder \"y\" using the TensorFlow `name` parameter in the [TF Placeholder](https://www.tensorflow.org/api_docs/python/tf/placeholder).\n",
    "* Implement `neural_net_keep_prob_input`\n",
    " * Return a [TF Placeholder](https://www.tensorflow.org/api_docs/python/tf/placeholder) for dropout keep probability.\n",
    " * Name the TensorFlow placeholder \"keep_prob\" using the TensorFlow `name` parameter in the [TF Placeholder](https://www.tensorflow.org/api_docs/python/tf/placeholder).\n",
    "\n",
    "These names will be used at the end of the project to load your saved model.\n",
    "\n",
    "Note: `None` for shapes in TensorFlow allow for a dynamic size."
   ]
  },
  {
   "cell_type": "code",
   "execution_count": 6,
   "metadata": {
    "collapsed": false,
    "deletable": true,
    "editable": true
   },
   "outputs": [
    {
     "name": "stdout",
     "output_type": "stream",
     "text": [
      "Image Input Tests Passed.\n",
      "Label Input Tests Passed.\n",
      "Keep Prob Tests Passed.\n"
     ]
    }
   ],
   "source": [
    "import tensorflow as tf\n",
    "\n",
    "def neural_net_image_input(image_shape):\n",
    "    \"\"\"\n",
    "    Return a Tensor for a bach of image input\n",
    "    : image_shape: Shape of the images\n",
    "    : return: Tensor for image input.\n",
    "    \"\"\"\n",
    "    shape = [None]\n",
    "    shape.extend(image_shape)\n",
    "    return tf.placeholder(dtype = tf.float32, shape = shape , name = \"x\")\n",
    "\n",
    "\n",
    "def neural_net_label_input(n_classes):\n",
    "    \"\"\"\n",
    "    Return a Tensor for a batch of label input\n",
    "    : n_classes: Number of classes\n",
    "    : return: Tensor for label input.\n",
    "    \"\"\"\n",
    "    return tf.placeholder(dtype = tf.float32, shape = [None, n_classes], name = \"y\" )\n",
    "\n",
    "\n",
    "\n",
    "def neural_net_keep_prob_input():\n",
    "    \"\"\"\n",
    "    Return a Tensor for keep probability\n",
    "    : return: Tensor for keep probability.\n",
    "    \"\"\"\n",
    "    \n",
    "    return tf.placeholder(dtype = tf.float32, shape = None, name = \"keep_prob\" )\n",
    "\n",
    "\n",
    "\"\"\"\n",
    "DON'T MODIFY ANYTHING IN THIS CELL THAT IS BELOW THIS LINE\n",
    "\"\"\"\n",
    "tf.reset_default_graph()\n",
    "tests.test_nn_image_inputs(neural_net_image_input)\n",
    "tests.test_nn_label_inputs(neural_net_label_input)\n",
    "tests.test_nn_keep_prob_inputs(neural_net_keep_prob_input)"
   ]
  },
  {
   "cell_type": "markdown",
   "metadata": {
    "deletable": true,
    "editable": true
   },
   "source": [
    "### Convolution and Max Pooling Layer\n",
    "Convolution layers have a lot of success with images. For this code cell, you should implement the function `conv2d_maxpool` to apply convolution then max pooling:\n",
    "* Create the weight and bias using `conv_ksize`, `conv_num_outputs` and the shape of `x_tensor`.\n",
    "* Apply a convolution to `x_tensor` using weight and `conv_strides`.\n",
    " * We recommend you use same padding, but you're welcome to use any padding.\n",
    "* Add bias\n",
    "* Add a nonlinear activation to the convolution.\n",
    "* Apply Max Pooling using `pool_ksize` and `pool_strides`.\n",
    " * We recommend you use same padding, but you're welcome to use any padding.\n",
    "\n",
    "**Note:** You **can't** use [TensorFlow Layers](https://www.tensorflow.org/api_docs/python/tf/layers) or [TensorFlow Layers (contrib)](https://www.tensorflow.org/api_guides/python/contrib.layers) for **this** layer, but you can still use TensorFlow's [Neural Network](https://www.tensorflow.org/api_docs/python/tf/nn) package. You may still use the shortcut option for all the **other** layers."
   ]
  },
  {
   "cell_type": "code",
   "execution_count": 11,
   "metadata": {
    "collapsed": false,
    "deletable": true,
    "editable": true
   },
   "outputs": [
    {
     "name": "stdout",
     "output_type": "stream",
     "text": [
      "Tests Passed\n"
     ]
    }
   ],
   "source": [
    "def conv2d(x, W, b, strides = [1, 1]):\n",
    "    x = tf.nn.conv2d(x, W, strides=[1, strides[0], strides[1], 1], padding='SAME')\n",
    "    x = tf.nn.bias_add(x, b)\n",
    "    return tf.nn.relu(x)\n",
    "\n",
    "\n",
    "def maxpool2d(x, pool_size = [1,1] , pool_strides = [1, 1]):\n",
    "    return tf.nn.max_pool(\n",
    "        x,\n",
    "        ksize=[1, pool_size[0], pool_size[1], 1],\n",
    "        strides=[1, pool_strides[0], pool_strides[1], 1],\n",
    "        padding='SAME')\n",
    "\n",
    "def conv2d_maxpool(x_tensor, conv_num_outputs, conv_ksize, conv_strides, pool_ksize, pool_strides):\n",
    "    \"\"\"\n",
    "    Apply convolution then max pooling to x_tensor\n",
    "    :param x_tensor: TensorFlow Tensor\n",
    "    :param conv_num_outputs: Number of outputs for the convolutional layer\n",
    "    :param conv_ksize: kernal size 2-D Tuple for the convolutional layer\n",
    "    :param conv_strides: Stride 2-D Tuple for convolution\n",
    "    :param pool_ksize: kernal size 2-D Tuple for pool\n",
    "    :param pool_strides: Stride 2-D Tuple for pool\n",
    "    : return: A tensor that represents convolution and max pooling of x_tensor\n",
    "    \"\"\"\n",
    "    depthIdx = len(x_tensor.get_shape()) - 1\n",
    "    depth = int(x_tensor.get_shape()[depthIdx])\n",
    "    \n",
    "    weight = tf.Variable(tf.truncated_normal([conv_ksize[0], conv_ksize[1], depth, conv_num_outputs],stddev=0.1))\n",
    "    bias = tf.Variable(tf.truncated_normal([conv_num_outputs],stddev=0.1))\n",
    "    conv_layer = conv2d(x_tensor, weight, bias, conv_strides)\n",
    "    conv_layer = maxpool2d(conv_layer, pool_ksize, pool_strides)\n",
    "    \n",
    "    return conv_layer \n",
    "\n",
    "\"\"\"\n",
    "DON'T MODIFY ANYTHING IN THIS CELL THAT IS BELOW THIS LINE\n",
    "\"\"\"\n",
    "tests.test_con_pool(conv2d_maxpool)"
   ]
  },
  {
   "cell_type": "markdown",
   "metadata": {
    "deletable": true,
    "editable": true
   },
   "source": [
    "### Flatten Layer\n",
    "Implement the `flatten` function to change the dimension of `x_tensor` from a 4-D tensor to a 2-D tensor.  The output should be the shape (*Batch Size*, *Flattened Image Size*). Shortcut option: you can use classes from the [TensorFlow Layers](https://www.tensorflow.org/api_docs/python/tf/layers) or [TensorFlow Layers (contrib)](https://www.tensorflow.org/api_guides/python/contrib.layers) packages for this layer. For more of a challenge, only use other TensorFlow packages."
   ]
  },
  {
   "cell_type": "code",
   "execution_count": 12,
   "metadata": {
    "collapsed": false,
    "deletable": true,
    "editable": true
   },
   "outputs": [
    {
     "name": "stdout",
     "output_type": "stream",
     "text": [
      "Tests Passed\n"
     ]
    }
   ],
   "source": [
    "def flatten(x_tensor):\n",
    "    \"\"\"\n",
    "    Flatten x_tensor to (Batch Size, Flattened Image Size)\n",
    "    : x_tensor: A tensor of size (Batch Size, ...), where ... are the image dimensions.\n",
    "    : return: A tensor of size (Batch Size, Flattened Image Size).\n",
    "    \"\"\"\n",
    "    # Shape of x_tensor is (?, 10, 30, 6)\n",
    "    flattenedImageSize = 1\n",
    "    for i,v in enumerate(x_tensor.get_shape()):\n",
    "        if i != 0:\n",
    "            flattenedImageSize *= int(v)\n",
    "\n",
    "    # See https://www.tensorflow.org/api_docs/python/tf/reshape\n",
    "    return tf.reshape(x_tensor, [-1, flattenedImageSize])\n",
    "\n",
    "\n",
    "\"\"\"\n",
    "DON'T MODIFY ANYTHING IN THIS CELL THAT IS BELOW THIS LINE\n",
    "\"\"\"\n",
    "tests.test_flatten(flatten)"
   ]
  },
  {
   "cell_type": "markdown",
   "metadata": {
    "deletable": true,
    "editable": true
   },
   "source": [
    "### Fully-Connected Layer\n",
    "Implement the `fully_conn` function to apply a fully connected layer to `x_tensor` with the shape (*Batch Size*, *num_outputs*). Shortcut option: you can use classes from the [TensorFlow Layers](https://www.tensorflow.org/api_docs/python/tf/layers) or [TensorFlow Layers (contrib)](https://www.tensorflow.org/api_guides/python/contrib.layers) packages for this layer. For more of a challenge, only use other TensorFlow packages."
   ]
  },
  {
   "cell_type": "code",
   "execution_count": 13,
   "metadata": {
    "collapsed": false,
    "deletable": true,
    "editable": true
   },
   "outputs": [
    {
     "name": "stdout",
     "output_type": "stream",
     "text": [
      "Tests Passed\n"
     ]
    }
   ],
   "source": [
    "def fully_conn(x_tensor, num_outputs):\n",
    "    \"\"\"\n",
    "    Apply a fully connected layer to x_tensor using weight and bias\n",
    "    : x_tensor: A 2-D tensor where the first dimension is batch size.\n",
    "    : num_outputs: The number of output that the new tensor should be.\n",
    "    : return: A 2-D tensor where the second dimension is num_outputs.\n",
    "    \"\"\"\n",
    "\n",
    "\n",
    "    # The first dimention of the weight must be equal to the 2nd dimension of the tensor\n",
    "    firstDim = int(x_tensor.get_shape()[1])\n",
    "        \n",
    "    weight = tf.Variable(tf.random_normal([firstDim, num_outputs]))\n",
    "    bias = tf.Variable(tf.random_normal([num_outputs]))\n",
    "\n",
    "    fc = tf.add(tf.matmul(x_tensor, weight), bias)\n",
    "    # Not sure if relu should be applied. \n",
    "    fc = tf.nn.relu(fc)\n",
    "    \n",
    "    return fc\n",
    "\n",
    "\n",
    "\"\"\"\n",
    "DON'T MODIFY ANYTHING IN THIS CELL THAT IS BELOW THIS LINE\n",
    "\"\"\"\n",
    "tests.test_fully_conn(fully_conn)"
   ]
  },
  {
   "cell_type": "markdown",
   "metadata": {
    "deletable": true,
    "editable": true
   },
   "source": [
    "### Output Layer\n",
    "Implement the `output` function to apply a fully connected layer to `x_tensor` with the shape (*Batch Size*, *num_outputs*). Shortcut option: you can use classes from the [TensorFlow Layers](https://www.tensorflow.org/api_docs/python/tf/layers) or [TensorFlow Layers (contrib)](https://www.tensorflow.org/api_guides/python/contrib.layers) packages for this layer. For more of a challenge, only use other TensorFlow packages.\n",
    "\n",
    "**Note:** Activation, softmax, or cross entropy should **not** be applied to this."
   ]
  },
  {
   "cell_type": "code",
   "execution_count": 14,
   "metadata": {
    "collapsed": false,
    "deletable": true,
    "editable": true
   },
   "outputs": [
    {
     "name": "stdout",
     "output_type": "stream",
     "text": [
      "Tests Passed\n"
     ]
    }
   ],
   "source": [
    "def output(x_tensor, num_outputs):\n",
    "    \"\"\"\n",
    "    Apply a output layer to x_tensor using weight and bias\n",
    "    : x_tensor: A 2-D tensor where the first dimension is batch size.\n",
    "    : num_outputs: The number of output that the new tensor should be.\n",
    "    : return: A 2-D tensor where the second dimension is num_outputs.\n",
    "    \"\"\"\n",
    "    # The first dimention of the weight must be equal to the 2nd dimension of the tensor\n",
    "    firstDim = int(x_tensor.get_shape()[1])\n",
    "        \n",
    "    weight = tf.Variable(tf.random_normal([firstDim, num_outputs]))\n",
    "    bias = tf.Variable(tf.random_normal([num_outputs]))\n",
    "\n",
    "    return tf.add(tf.matmul(x_tensor, weight), bias)\n",
    "\n",
    "\n",
    "\"\"\"\n",
    "DON'T MODIFY ANYTHING IN THIS CELL THAT IS BELOW THIS LINE\n",
    "\"\"\"\n",
    "tests.test_output(output)"
   ]
  },
  {
   "cell_type": "markdown",
   "metadata": {
    "deletable": true,
    "editable": true
   },
   "source": [
    "### Create Convolutional Model\n",
    "Implement the function `conv_net` to create a convolutional neural network model. The function takes in a batch of images, `x`, and outputs logits.  Use the layers you created above to create this model:\n",
    "\n",
    "* Apply 1, 2, or 3 Convolution and Max Pool layers\n",
    "* Apply a Flatten Layer\n",
    "* Apply 1, 2, or 3 Fully Connected Layers\n",
    "* Apply an Output Layer\n",
    "* Return the output\n",
    "* Apply [TensorFlow's Dropout](https://www.tensorflow.org/api_docs/python/tf/nn/dropout) to one or more layers in the model using `keep_prob`. "
   ]
  },
  {
   "cell_type": "code",
   "execution_count": 15,
   "metadata": {
    "collapsed": false,
    "deletable": true,
    "editable": true
   },
   "outputs": [
    {
     "name": "stdout",
     "output_type": "stream",
     "text": [
      "Neural Network Built!\n"
     ]
    }
   ],
   "source": [
    "def conv_net(x, keep_prob):\n",
    "    \"\"\"\n",
    "    Create a convolutional neural network model\n",
    "    : x: Placeholder tensor that holds image data.\n",
    "    : keep_prob: Placeholder tensor that hold dropout keep probability.\n",
    "    : return: Tensor that represents logits\n",
    "    \"\"\"\n",
    "    # TODO: Apply 1, 2, or 3 Convolution and Max Pool layers\n",
    "    #    Play around with different number of outputs, kernel size and stride\n",
    "    # Function Definition from Above:\n",
    "#    :param x_tensor: TensorFlow Tensor\n",
    "#    :param conv_num_outputs: Number of outputs for the convolutional layer\n",
    "#    :param conv_ksize: kernal size 2-D Tuple for the convolutional layer\n",
    "#    :param conv_strides: Stride 2-D Tuple for convolution\n",
    "#    :param pool_ksize: kernal size 2-D Tuple for pool\n",
    "#    :param pool_strides: Stride 2-D Tuple for pool\n",
    "    conv = conv2d_maxpool(x, 48,[3, 3], [1,1], [3,3], [2,2])\n",
    "    conv = conv2d_maxpool(conv, 96,[1, 1], [1,1], [4,4], [2,2])\n",
    "    conv = conv2d_maxpool(conv, 128,[3, 3], [1,1], [4,4], [2,2])\n",
    "\n",
    "\n",
    "    # TODO: Apply a Flatten Layer\n",
    "    # Function Definition from Above:\n",
    "    flattened = flatten(conv)\n",
    "    \n",
    "\n",
    "    # TODO: Apply 1, 2, or 3 Fully Connected Layers\n",
    "    #    Play around with different number of outputs\n",
    "    # Function Definition from Above:\n",
    "    fc = fully_conn(flattened, 1024)\n",
    "    fc = tf.nn.dropout(fc, keep_prob = keep_prob, name = \"dropout\")\n",
    "    \n",
    "    # TODO: Apply an Output Layer\n",
    "    #    Set this to the number of classes\n",
    "    # Function Definition from Above:\n",
    "    result = output(fc, 10)\n",
    "    \n",
    "    \n",
    "    # TODO: return output\n",
    "    return result\n",
    "\n",
    "\n",
    "\"\"\"\n",
    "DON'T MODIFY ANYTHING IN THIS CELL THAT IS BELOW THIS LINE\n",
    "\"\"\"\n",
    "\n",
    "##############################\n",
    "## Build the Neural Network ##\n",
    "##############################\n",
    "\n",
    "# Remove previous weights, bias, inputs, etc..\n",
    "tf.reset_default_graph()\n",
    "\n",
    "# Inputs\n",
    "x = neural_net_image_input((32, 32, 3))\n",
    "y = neural_net_label_input(10)\n",
    "keep_prob = neural_net_keep_prob_input()\n",
    "\n",
    "# Model\n",
    "logits = conv_net(x, keep_prob)\n",
    "\n",
    "# Name logits Tensor, so that is can be loaded from disk after training\n",
    "logits = tf.identity(logits, name='logits')\n",
    "\n",
    "# Loss and Optimizer\n",
    "cost = tf.reduce_mean(tf.nn.softmax_cross_entropy_with_logits(logits=logits, labels=y))\n",
    "optimizer = tf.train.AdamOptimizer().minimize(cost)\n",
    "\n",
    "# Accuracy\n",
    "correct_pred = tf.equal(tf.argmax(logits, 1), tf.argmax(y, 1))\n",
    "accuracy = tf.reduce_mean(tf.cast(correct_pred, tf.float32), name='accuracy')\n",
    "\n",
    "tests.test_conv_net(conv_net)"
   ]
  },
  {
   "cell_type": "markdown",
   "metadata": {
    "deletable": true,
    "editable": true
   },
   "source": [
    "## Train the Neural Network\n",
    "### Single Optimization\n",
    "Implement the function `train_neural_network` to do a single optimization.  The optimization should use `optimizer` to optimize in `session` with a `feed_dict` of the following:\n",
    "* `x` for image input\n",
    "* `y` for labels\n",
    "* `keep_prob` for keep probability for dropout\n",
    "\n",
    "This function will be called for each batch, so `tf.global_variables_initializer()` has already been called.\n",
    "\n",
    "Note: Nothing needs to be returned. This function is only optimizing the neural network."
   ]
  },
  {
   "cell_type": "code",
   "execution_count": 16,
   "metadata": {
    "collapsed": false,
    "deletable": true,
    "editable": true
   },
   "outputs": [
    {
     "name": "stdout",
     "output_type": "stream",
     "text": [
      "Tests Passed\n"
     ]
    }
   ],
   "source": [
    "def train_neural_network(session, optimizer, keep_probability, feature_batch, label_batch):\n",
    "    \"\"\"\n",
    "    Optimize the session on a batch of images and labels\n",
    "    : session: Current TensorFlow session\n",
    "    : optimizer: TensorFlow optimizer function\n",
    "    : keep_probability: keep probability\n",
    "    : feature_batch: Batch of Numpy image data\n",
    "    : label_batch: Batch of Numpy label data\n",
    "    \"\"\"\n",
    "    session.run(optimizer, feed_dict={\n",
    "                x: feature_batch,\n",
    "                y: label_batch,\n",
    "                keep_prob: keep_probability})\n",
    "\n",
    "\n",
    "\"\"\"\n",
    "DON'T MODIFY ANYTHING IN THIS CELL THAT IS BELOW THIS LINE\n",
    "\"\"\"\n",
    "tests.test_train_nn(train_neural_network)"
   ]
  },
  {
   "cell_type": "markdown",
   "metadata": {
    "deletable": true,
    "editable": true
   },
   "source": [
    "### Show Stats\n",
    "Implement the function `print_stats` to print loss and validation accuracy.  Use the global variables `valid_features` and `valid_labels` to calculate validation accuracy.  Use a keep probability of `1.0` to calculate the loss and validation accuracy."
   ]
  },
  {
   "cell_type": "code",
   "execution_count": 17,
   "metadata": {
    "collapsed": false,
    "deletable": true,
    "editable": true
   },
   "outputs": [],
   "source": [
    "def print_stats(session, feature_batch, label_batch, cost, accuracy):\n",
    "    \"\"\"\n",
    "    Print information about loss and validation accuracy\n",
    "    : session: Current TensorFlow session\n",
    "    : feature_batch: Batch of Numpy image data\n",
    "    : label_batch: Batch of Numpy label data\n",
    "    : cost: TensorFlow cost function\n",
    "    : accuracy: TensorFlow accuracy function\n",
    "    \"\"\"\n",
    "    # TODO: Implement Function\n",
    "    # Calculate batch loss and accuracy\n",
    "    loss = sess.run(cost, feed_dict={\n",
    "        x: feature_batch,\n",
    "        y: label_batch,\n",
    "        keep_prob: 1.})\n",
    "    valid_acc = sess.run(accuracy, feed_dict={\n",
    "        x: valid_features,\n",
    "        y: valid_labels,\n",
    "        keep_prob: 1.})\n",
    "\n",
    "    print('Loss: {} Validation Accuracy: {}'.format(\n",
    "        loss,\n",
    "        valid_acc))"
   ]
  },
  {
   "cell_type": "markdown",
   "metadata": {
    "deletable": true,
    "editable": true
   },
   "source": [
    "### Hyperparameters\n",
    "Tune the following parameters:\n",
    "* Set `epochs` to the number of iterations until the network stops learning or start overfitting\n",
    "* Set `batch_size` to the highest number that your machine has memory for.  Most people set them to common sizes of memory:\n",
    " * 64\n",
    " * 128\n",
    " * 256\n",
    " * ...\n",
    "* Set `keep_probability` to the probability of keeping a node using dropout"
   ]
  },
  {
   "cell_type": "code",
   "execution_count": 18,
   "metadata": {
    "collapsed": true,
    "deletable": true,
    "editable": true
   },
   "outputs": [],
   "source": [
    "# TODO: Tune Parameters\n",
    "epochs = 75\n",
    "batch_size = 64\n",
    "keep_probability = 0.65"
   ]
  },
  {
   "cell_type": "markdown",
   "metadata": {
    "deletable": true,
    "editable": true
   },
   "source": [
    "### Train on a Single CIFAR-10 Batch\n",
    "Instead of training the neural network on all the CIFAR-10 batches of data, let's use a single batch. This should save time while you iterate on the model to get a better accuracy.  Once the final validation accuracy is 50% or greater, run the model on all the data in the next section."
   ]
  },
  {
   "cell_type": "code",
   "execution_count": 19,
   "metadata": {
    "collapsed": false,
    "deletable": true,
    "editable": true
   },
   "outputs": [
    {
     "name": "stdout",
     "output_type": "stream",
     "text": [
      "Checking the Training on a Single Batch...\n",
      "Epoch  1, CIFAR-10 Batch 1:  Loss: 5.903022766113281 Validation Accuracy: 0.29819998145103455\n",
      "Epoch  2, CIFAR-10 Batch 1:  Loss: 6.147982597351074 Validation Accuracy: 0.3306000232696533\n",
      "Epoch  3, CIFAR-10 Batch 1:  Loss: 5.278137683868408 Validation Accuracy: 0.3617999851703644\n",
      "Epoch  4, CIFAR-10 Batch 1:  Loss: 3.548572301864624 Validation Accuracy: 0.3456000089645386\n",
      "Epoch  5, CIFAR-10 Batch 1:  Loss: 1.892600417137146 Validation Accuracy: 0.31919997930526733\n",
      "Epoch  6, CIFAR-10 Batch 1:  Loss: 1.7475248575210571 Validation Accuracy: 0.3555999994277954\n",
      "Epoch  7, CIFAR-10 Batch 1:  Loss: 1.6270240545272827 Validation Accuracy: 0.34339994192123413\n",
      "Epoch  8, CIFAR-10 Batch 1:  Loss: 1.832902193069458 Validation Accuracy: 0.34880000352859497\n",
      "Epoch  9, CIFAR-10 Batch 1:  Loss: 1.7191286087036133 Validation Accuracy: 0.38519999384880066\n",
      "Epoch 10, CIFAR-10 Batch 1:  Loss: 1.728877067565918 Validation Accuracy: 0.38739997148513794\n",
      "Epoch 11, CIFAR-10 Batch 1:  Loss: 1.6319811344146729 Validation Accuracy: 0.3961999714374542\n",
      "Epoch 12, CIFAR-10 Batch 1:  Loss: 1.6985797882080078 Validation Accuracy: 0.384399950504303\n",
      "Epoch 13, CIFAR-10 Batch 1:  Loss: 1.659055233001709 Validation Accuracy: 0.4213999807834625\n",
      "Epoch 14, CIFAR-10 Batch 1:  Loss: 1.6412757635116577 Validation Accuracy: 0.4001999795436859\n",
      "Epoch 15, CIFAR-10 Batch 1:  Loss: 1.5784462690353394 Validation Accuracy: 0.4203999638557434\n",
      "Epoch 16, CIFAR-10 Batch 1:  Loss: 1.6412714719772339 Validation Accuracy: 0.4169999659061432\n",
      "Epoch 17, CIFAR-10 Batch 1:  Loss: 1.5216480493545532 Validation Accuracy: 0.41199997067451477\n",
      "Epoch 18, CIFAR-10 Batch 1:  Loss: 1.5890547037124634 Validation Accuracy: 0.423399955034256\n",
      "Epoch 19, CIFAR-10 Batch 1:  Loss: 1.4801305532455444 Validation Accuracy: 0.39979997277259827\n",
      "Epoch 20, CIFAR-10 Batch 1:  Loss: 1.4844396114349365 Validation Accuracy: 0.3961999714374542\n",
      "Epoch 21, CIFAR-10 Batch 1:  Loss: 1.5385419130325317 Validation Accuracy: 0.41259998083114624\n",
      "Epoch 22, CIFAR-10 Batch 1:  Loss: 1.519972801208496 Validation Accuracy: 0.4081999659538269\n",
      "Epoch 23, CIFAR-10 Batch 1:  Loss: 1.489426851272583 Validation Accuracy: 0.444599986076355\n",
      "Epoch 24, CIFAR-10 Batch 1:  Loss: 1.4124013185501099 Validation Accuracy: 0.45059990882873535\n",
      "Epoch 25, CIFAR-10 Batch 1:  Loss: 1.5217914581298828 Validation Accuracy: 0.4177999496459961\n",
      "Epoch 26, CIFAR-10 Batch 1:  Loss: 1.4440529346466064 Validation Accuracy: 0.4381999969482422\n",
      "Epoch 27, CIFAR-10 Batch 1:  Loss: 1.3175352811813354 Validation Accuracy: 0.4615999758243561\n",
      "Epoch 28, CIFAR-10 Batch 1:  Loss: 1.3856662511825562 Validation Accuracy: 0.46239998936653137\n",
      "Epoch 29, CIFAR-10 Batch 1:  Loss: 1.337052583694458 Validation Accuracy: 0.4413999617099762\n",
      "Epoch 30, CIFAR-10 Batch 1:  Loss: 1.3564016819000244 Validation Accuracy: 0.4407999813556671\n",
      "Epoch 31, CIFAR-10 Batch 1:  Loss: 1.290695309638977 Validation Accuracy: 0.45819997787475586\n",
      "Epoch 32, CIFAR-10 Batch 1:  Loss: 1.241342306137085 Validation Accuracy: 0.46699997782707214\n",
      "Epoch 33, CIFAR-10 Batch 1:  Loss: 1.3141711950302124 Validation Accuracy: 0.4777999520301819\n",
      "Epoch 34, CIFAR-10 Batch 1:  Loss: 1.2880226373672485 Validation Accuracy: 0.47679996490478516\n",
      "Epoch 35, CIFAR-10 Batch 1:  Loss: 1.090266466140747 Validation Accuracy: 0.496599942445755\n",
      "Epoch 36, CIFAR-10 Batch 1:  Loss: 1.3331619501113892 Validation Accuracy: 0.4991999566555023\n",
      "Epoch 37, CIFAR-10 Batch 1:  Loss: 1.1466044187545776 Validation Accuracy: 0.4821999669075012\n",
      "Epoch 38, CIFAR-10 Batch 1:  Loss: 1.100896954536438 Validation Accuracy: 0.49519994854927063\n",
      "Epoch 39, CIFAR-10 Batch 1:  Loss: 1.0502829551696777 Validation Accuracy: 0.4949999749660492\n",
      "Epoch 40, CIFAR-10 Batch 1:  Loss: 1.1815009117126465 Validation Accuracy: 0.5033999681472778\n",
      "Epoch 41, CIFAR-10 Batch 1:  Loss: 1.1685442924499512 Validation Accuracy: 0.4795999825000763\n",
      "Epoch 42, CIFAR-10 Batch 1:  Loss: 1.123016119003296 Validation Accuracy: 0.4975999593734741\n",
      "Epoch 43, CIFAR-10 Batch 1:  Loss: 1.1074721813201904 Validation Accuracy: 0.509399950504303\n",
      "Epoch 44, CIFAR-10 Batch 1:  Loss: 1.0234227180480957 Validation Accuracy: 0.494799941778183\n",
      "Epoch 45, CIFAR-10 Batch 1:  Loss: 1.0471038818359375 Validation Accuracy: 0.5109999179840088\n",
      "Epoch 46, CIFAR-10 Batch 1:  Loss: 1.0359406471252441 Validation Accuracy: 0.512999951839447\n",
      "Epoch 47, CIFAR-10 Batch 1:  Loss: 1.0433911085128784 Validation Accuracy: 0.5199999213218689\n",
      "Epoch 48, CIFAR-10 Batch 1:  Loss: 1.1157840490341187 Validation Accuracy: 0.5153999328613281\n",
      "Epoch 49, CIFAR-10 Batch 1:  Loss: 0.9690093994140625 Validation Accuracy: 0.5313999056816101\n",
      "Epoch 50, CIFAR-10 Batch 1:  Loss: 0.9777749180793762 Validation Accuracy: 0.5131999254226685\n",
      "Epoch 51, CIFAR-10 Batch 1:  Loss: 0.9788528680801392 Validation Accuracy: 0.5417999029159546\n",
      "Epoch 52, CIFAR-10 Batch 1:  Loss: 0.9590323567390442 Validation Accuracy: 0.49779999256134033\n",
      "Epoch 53, CIFAR-10 Batch 1:  Loss: 0.8588964343070984 Validation Accuracy: 0.5283999443054199\n",
      "Epoch 54, CIFAR-10 Batch 1:  Loss: 0.9235756993293762 Validation Accuracy: 0.527199923992157\n",
      "Epoch 55, CIFAR-10 Batch 1:  Loss: 0.9082252979278564 Validation Accuracy: 0.5263999700546265\n",
      "Epoch 56, CIFAR-10 Batch 1:  Loss: 0.8830533027648926 Validation Accuracy: 0.5313999652862549\n",
      "Epoch 57, CIFAR-10 Batch 1:  Loss: 0.9447877407073975 Validation Accuracy: 0.5301999449729919\n",
      "Epoch 58, CIFAR-10 Batch 1:  Loss: 0.857341468334198 Validation Accuracy: 0.5437999367713928\n",
      "Epoch 59, CIFAR-10 Batch 1:  Loss: 0.843276858329773 Validation Accuracy: 0.5393999218940735\n",
      "Epoch 60, CIFAR-10 Batch 1:  Loss: 0.7686403393745422 Validation Accuracy: 0.5365999937057495\n",
      "Epoch 61, CIFAR-10 Batch 1:  Loss: 0.8228986263275146 Validation Accuracy: 0.5229998826980591\n",
      "Epoch 62, CIFAR-10 Batch 1:  Loss: 0.7377383708953857 Validation Accuracy: 0.5197999477386475\n",
      "Epoch 63, CIFAR-10 Batch 1:  Loss: 0.7473023533821106 Validation Accuracy: 0.5387999415397644\n",
      "Epoch 64, CIFAR-10 Batch 1:  Loss: 0.852264404296875 Validation Accuracy: 0.5445998907089233\n",
      "Epoch 65, CIFAR-10 Batch 1:  Loss: 0.6831451654434204 Validation Accuracy: 0.5317999124526978\n",
      "Epoch 66, CIFAR-10 Batch 1:  Loss: 0.7132533192634583 Validation Accuracy: 0.5633999705314636\n",
      "Epoch 67, CIFAR-10 Batch 1:  Loss: 0.7135697603225708 Validation Accuracy: 0.5499999523162842\n",
      "Epoch 68, CIFAR-10 Batch 1:  Loss: 0.786424458026886 Validation Accuracy: 0.5553998947143555\n",
      "Epoch 69, CIFAR-10 Batch 1:  Loss: 0.7046481966972351 Validation Accuracy: 0.5379999279975891\n",
      "Epoch 70, CIFAR-10 Batch 1:  Loss: 0.6746986508369446 Validation Accuracy: 0.5415999293327332\n",
      "Epoch 71, CIFAR-10 Batch 1:  Loss: 0.6849921345710754 Validation Accuracy: 0.553399920463562\n",
      "Epoch 72, CIFAR-10 Batch 1:  Loss: 0.648595929145813 Validation Accuracy: 0.5325999855995178\n",
      "Epoch 73, CIFAR-10 Batch 1:  Loss: 0.5872519612312317 Validation Accuracy: 0.5411999225616455\n",
      "Epoch 74, CIFAR-10 Batch 1:  Loss: 0.6456805467605591 Validation Accuracy: 0.5169999599456787\n",
      "Epoch 75, CIFAR-10 Batch 1:  Loss: 0.6864610910415649 Validation Accuracy: 0.5461999177932739\n"
     ]
    }
   ],
   "source": [
    "\"\"\"\n",
    "DON'T MODIFY ANYTHING IN THIS CELL\n",
    "\"\"\"\n",
    "print('Checking the Training on a Single Batch...')\n",
    "with tf.Session() as sess:\n",
    "    # Initializing the variables\n",
    "    sess.run(tf.global_variables_initializer())\n",
    "    \n",
    "    # Training cycle\n",
    "    for epoch in range(epochs):\n",
    "        batch_i = 1\n",
    "        for batch_features, batch_labels in helper.load_preprocess_training_batch(batch_i, batch_size):\n",
    "            train_neural_network(sess, optimizer, keep_probability, batch_features, batch_labels)\n",
    "        print('Epoch {:>2}, CIFAR-10 Batch {}:  '.format(epoch + 1, batch_i), end='')\n",
    "        print_stats(sess, batch_features, batch_labels, cost, accuracy)"
   ]
  },
  {
   "cell_type": "markdown",
   "metadata": {
    "deletable": true,
    "editable": true
   },
   "source": [
    "### Fully Train the Model\n",
    "Now that you got a good accuracy with a single CIFAR-10 batch, try it with all five batches."
   ]
  },
  {
   "cell_type": "code",
   "execution_count": 20,
   "metadata": {
    "collapsed": false,
    "deletable": true,
    "editable": true
   },
   "outputs": [
    {
     "name": "stdout",
     "output_type": "stream",
     "text": [
      "Training...\n",
      "Epoch  1, CIFAR-10 Batch 1:  Loss: 7.481874465942383 Validation Accuracy: 0.25519996881484985\n",
      "Epoch  1, CIFAR-10 Batch 2:  Loss: 6.006937503814697 Validation Accuracy: 0.3349999487400055\n",
      "Epoch  1, CIFAR-10 Batch 3:  Loss: 4.415112495422363 Validation Accuracy: 0.31859996914863586\n",
      "Epoch  1, CIFAR-10 Batch 4:  Loss: 3.493755340576172 Validation Accuracy: 0.32679998874664307\n",
      "Epoch  1, CIFAR-10 Batch 5:  Loss: 2.2811899185180664 Validation Accuracy: 0.3567999601364136\n",
      "Epoch  2, CIFAR-10 Batch 1:  Loss: 2.009093999862671 Validation Accuracy: 0.3483999967575073\n",
      "Epoch  2, CIFAR-10 Batch 2:  Loss: 1.9618257284164429 Validation Accuracy: 0.361799955368042\n",
      "Epoch  2, CIFAR-10 Batch 3:  Loss: 1.715969204902649 Validation Accuracy: 0.3781999945640564\n",
      "Epoch  2, CIFAR-10 Batch 4:  Loss: 1.673261046409607 Validation Accuracy: 0.38979995250701904\n",
      "Epoch  2, CIFAR-10 Batch 5:  Loss: 1.7594876289367676 Validation Accuracy: 0.38259997963905334\n",
      "Epoch  3, CIFAR-10 Batch 1:  Loss: 1.962511420249939 Validation Accuracy: 0.3822000026702881\n",
      "Epoch  3, CIFAR-10 Batch 2:  Loss: 1.7769564390182495 Validation Accuracy: 0.4097999632358551\n",
      "Epoch  3, CIFAR-10 Batch 3:  Loss: 1.608222246170044 Validation Accuracy: 0.41919994354248047\n",
      "Epoch  3, CIFAR-10 Batch 4:  Loss: 1.6521060466766357 Validation Accuracy: 0.4115999937057495\n",
      "Epoch  3, CIFAR-10 Batch 5:  Loss: 1.73727285861969 Validation Accuracy: 0.40619999170303345\n",
      "Epoch  4, CIFAR-10 Batch 1:  Loss: 1.6926735639572144 Validation Accuracy: 0.4229999780654907\n",
      "Epoch  4, CIFAR-10 Batch 2:  Loss: 1.6705293655395508 Validation Accuracy: 0.43939995765686035\n",
      "Epoch  4, CIFAR-10 Batch 3:  Loss: 1.534713864326477 Validation Accuracy: 0.4397999942302704\n",
      "Epoch  4, CIFAR-10 Batch 4:  Loss: 1.517329454421997 Validation Accuracy: 0.4367999732494354\n",
      "Epoch  4, CIFAR-10 Batch 5:  Loss: 1.5763580799102783 Validation Accuracy: 0.41179999709129333\n",
      "Epoch  5, CIFAR-10 Batch 1:  Loss: 1.7164185047149658 Validation Accuracy: 0.4461999833583832\n",
      "Epoch  5, CIFAR-10 Batch 2:  Loss: 1.6450477838516235 Validation Accuracy: 0.459199994802475\n",
      "Epoch  5, CIFAR-10 Batch 3:  Loss: 1.5297901630401611 Validation Accuracy: 0.4325999617576599\n",
      "Epoch  5, CIFAR-10 Batch 4:  Loss: 1.4556643962860107 Validation Accuracy: 0.47279995679855347\n",
      "Epoch  5, CIFAR-10 Batch 5:  Loss: 1.56526780128479 Validation Accuracy: 0.4657999575138092\n",
      "Epoch  6, CIFAR-10 Batch 1:  Loss: 1.7469024658203125 Validation Accuracy: 0.4469999670982361\n",
      "Epoch  6, CIFAR-10 Batch 2:  Loss: 1.6280122995376587 Validation Accuracy: 0.4413999617099762\n",
      "Epoch  6, CIFAR-10 Batch 3:  Loss: 1.4851385354995728 Validation Accuracy: 0.4503999948501587\n",
      "Epoch  6, CIFAR-10 Batch 4:  Loss: 1.4284242391586304 Validation Accuracy: 0.47979995608329773\n",
      "Epoch  6, CIFAR-10 Batch 5:  Loss: 1.4939780235290527 Validation Accuracy: 0.47019994258880615\n",
      "Epoch  7, CIFAR-10 Batch 1:  Loss: 1.5674681663513184 Validation Accuracy: 0.4663999378681183\n",
      "Epoch  7, CIFAR-10 Batch 2:  Loss: 1.406153917312622 Validation Accuracy: 0.4749999940395355\n",
      "Epoch  7, CIFAR-10 Batch 3:  Loss: 1.4486125707626343 Validation Accuracy: 0.4795999526977539\n",
      "Epoch  7, CIFAR-10 Batch 4:  Loss: 1.3710103034973145 Validation Accuracy: 0.5121999382972717\n",
      "Epoch  7, CIFAR-10 Batch 5:  Loss: 1.4829862117767334 Validation Accuracy: 0.47279995679855347\n",
      "Epoch  8, CIFAR-10 Batch 1:  Loss: 1.5391616821289062 Validation Accuracy: 0.4771999716758728\n",
      "Epoch  8, CIFAR-10 Batch 2:  Loss: 1.3984787464141846 Validation Accuracy: 0.504599928855896\n",
      "Epoch  8, CIFAR-10 Batch 3:  Loss: 1.1719555854797363 Validation Accuracy: 0.512999951839447\n",
      "Epoch  8, CIFAR-10 Batch 4:  Loss: 1.381964921951294 Validation Accuracy: 0.504599928855896\n",
      "Epoch  8, CIFAR-10 Batch 5:  Loss: 1.3498777151107788 Validation Accuracy: 0.5221999883651733\n",
      "Epoch  9, CIFAR-10 Batch 1:  Loss: 1.5217938423156738 Validation Accuracy: 0.5257999300956726\n",
      "Epoch  9, CIFAR-10 Batch 2:  Loss: 1.3812918663024902 Validation Accuracy: 0.5179998874664307\n",
      "Epoch  9, CIFAR-10 Batch 3:  Loss: 1.1385349035263062 Validation Accuracy: 0.5277999639511108\n",
      "Epoch  9, CIFAR-10 Batch 4:  Loss: 1.2932720184326172 Validation Accuracy: 0.5197999477386475\n",
      "Epoch  9, CIFAR-10 Batch 5:  Loss: 1.3940647840499878 Validation Accuracy: 0.5203999280929565\n",
      "Epoch 10, CIFAR-10 Batch 1:  Loss: 1.5001254081726074 Validation Accuracy: 0.5293999314308167\n",
      "Epoch 10, CIFAR-10 Batch 2:  Loss: 1.2435308694839478 Validation Accuracy: 0.5343999862670898\n",
      "Epoch 10, CIFAR-10 Batch 3:  Loss: 1.2578709125518799 Validation Accuracy: 0.5431999564170837\n",
      "Epoch 10, CIFAR-10 Batch 4:  Loss: 1.2226786613464355 Validation Accuracy: 0.5477999448776245\n",
      "Epoch 10, CIFAR-10 Batch 5:  Loss: 1.3106063604354858 Validation Accuracy: 0.5383999347686768\n",
      "Epoch 11, CIFAR-10 Batch 1:  Loss: 1.385948657989502 Validation Accuracy: 0.5375999212265015\n",
      "Epoch 11, CIFAR-10 Batch 2:  Loss: 1.148039698600769 Validation Accuracy: 0.532599925994873\n",
      "Epoch 11, CIFAR-10 Batch 3:  Loss: 1.179535150527954 Validation Accuracy: 0.5491999387741089\n",
      "Epoch 11, CIFAR-10 Batch 4:  Loss: 1.1447876691818237 Validation Accuracy: 0.5535999536514282\n",
      "Epoch 11, CIFAR-10 Batch 5:  Loss: 1.182053565979004 Validation Accuracy: 0.5571999549865723\n",
      "Epoch 12, CIFAR-10 Batch 1:  Loss: 1.3019742965698242 Validation Accuracy: 0.5605999231338501\n",
      "Epoch 12, CIFAR-10 Batch 2:  Loss: 1.1155972480773926 Validation Accuracy: 0.525999903678894\n",
      "Epoch 12, CIFAR-10 Batch 3:  Loss: 1.0162336826324463 Validation Accuracy: 0.5683999061584473\n",
      "Epoch 12, CIFAR-10 Batch 4:  Loss: 1.2480558156967163 Validation Accuracy: 0.5613999366760254\n",
      "Epoch 12, CIFAR-10 Batch 5:  Loss: 1.0708402395248413 Validation Accuracy: 0.5679999589920044\n",
      "Epoch 13, CIFAR-10 Batch 1:  Loss: 1.2907453775405884 Validation Accuracy: 0.5623999238014221\n",
      "Epoch 13, CIFAR-10 Batch 2:  Loss: 1.220565915107727 Validation Accuracy: 0.5555999279022217\n",
      "Epoch 13, CIFAR-10 Batch 3:  Loss: 1.0890085697174072 Validation Accuracy: 0.5677999258041382\n",
      "Epoch 13, CIFAR-10 Batch 4:  Loss: 1.1692912578582764 Validation Accuracy: 0.5749999284744263\n",
      "Epoch 13, CIFAR-10 Batch 5:  Loss: 1.0367904901504517 Validation Accuracy: 0.5715999603271484\n",
      "Epoch 14, CIFAR-10 Batch 1:  Loss: 1.2103995084762573 Validation Accuracy: 0.5849999189376831\n",
      "Epoch 14, CIFAR-10 Batch 2:  Loss: 1.0360487699508667 Validation Accuracy: 0.5779998898506165\n",
      "Epoch 14, CIFAR-10 Batch 3:  Loss: 1.0627033710479736 Validation Accuracy: 0.5899999141693115\n",
      "Epoch 14, CIFAR-10 Batch 4:  Loss: 1.0418928861618042 Validation Accuracy: 0.5931999087333679\n",
      "Epoch 14, CIFAR-10 Batch 5:  Loss: 1.119975209236145 Validation Accuracy: 0.5653998851776123\n",
      "Epoch 15, CIFAR-10 Batch 1:  Loss: 1.2230559587478638 Validation Accuracy: 0.5755999088287354\n",
      "Epoch 15, CIFAR-10 Batch 2:  Loss: 1.194644808769226 Validation Accuracy: 0.5731999278068542\n",
      "Epoch 15, CIFAR-10 Batch 3:  Loss: 1.1192078590393066 Validation Accuracy: 0.5835999250411987\n",
      "Epoch 15, CIFAR-10 Batch 4:  Loss: 1.0037859678268433 Validation Accuracy: 0.6037998795509338\n",
      "Epoch 15, CIFAR-10 Batch 5:  Loss: 1.0244207382202148 Validation Accuracy: 0.5889999866485596\n",
      "Epoch 16, CIFAR-10 Batch 1:  Loss: 1.165273904800415 Validation Accuracy: 0.5993999242782593\n",
      "Epoch 16, CIFAR-10 Batch 2:  Loss: 1.122759222984314 Validation Accuracy: 0.5967999696731567\n",
      "Epoch 16, CIFAR-10 Batch 3:  Loss: 0.9676260948181152 Validation Accuracy: 0.6107999086380005\n",
      "Epoch 16, CIFAR-10 Batch 4:  Loss: 1.0274986028671265 Validation Accuracy: 0.601599931716919\n",
      "Epoch 16, CIFAR-10 Batch 5:  Loss: 1.0090359449386597 Validation Accuracy: 0.6111999154090881\n",
      "Epoch 17, CIFAR-10 Batch 1:  Loss: 1.1834553480148315 Validation Accuracy: 0.6023999452590942\n",
      "Epoch 17, CIFAR-10 Batch 2:  Loss: 1.0547492504119873 Validation Accuracy: 0.6147998571395874\n",
      "Epoch 17, CIFAR-10 Batch 3:  Loss: 1.0323785543441772 Validation Accuracy: 0.6125999689102173\n",
      "Epoch 17, CIFAR-10 Batch 4:  Loss: 1.0298645496368408 Validation Accuracy: 0.6137999296188354\n",
      "Epoch 17, CIFAR-10 Batch 5:  Loss: 0.9756925106048584 Validation Accuracy: 0.6099998950958252\n",
      "Epoch 18, CIFAR-10 Batch 1:  Loss: 1.1132451295852661 Validation Accuracy: 0.6137999296188354\n",
      "Epoch 18, CIFAR-10 Batch 2:  Loss: 0.9624021053314209 Validation Accuracy: 0.6125999093055725\n",
      "Epoch 18, CIFAR-10 Batch 3:  Loss: 0.9214866161346436 Validation Accuracy: 0.635999858379364\n",
      "Epoch 18, CIFAR-10 Batch 4:  Loss: 1.0128750801086426 Validation Accuracy: 0.6037999391555786\n",
      "Epoch 18, CIFAR-10 Batch 5:  Loss: 0.9393147230148315 Validation Accuracy: 0.6099998950958252\n",
      "Epoch 19, CIFAR-10 Batch 1:  Loss: 1.0604658126831055 Validation Accuracy: 0.6051998734474182\n",
      "Epoch 19, CIFAR-10 Batch 2:  Loss: 0.8466292023658752 Validation Accuracy: 0.6243999004364014\n",
      "Epoch 19, CIFAR-10 Batch 3:  Loss: 0.9471469521522522 Validation Accuracy: 0.614599883556366\n",
      "Epoch 19, CIFAR-10 Batch 4:  Loss: 0.8431109189987183 Validation Accuracy: 0.6371999382972717\n",
      "Epoch 19, CIFAR-10 Batch 5:  Loss: 0.8766196370124817 Validation Accuracy: 0.6161999106407166\n",
      "Epoch 20, CIFAR-10 Batch 1:  Loss: 1.0064027309417725 Validation Accuracy: 0.6235999464988708\n",
      "Epoch 20, CIFAR-10 Batch 2:  Loss: 0.7768025994300842 Validation Accuracy: 0.6251999139785767\n",
      "Epoch 20, CIFAR-10 Batch 3:  Loss: 0.8675229549407959 Validation Accuracy: 0.6255998611450195\n",
      "Epoch 20, CIFAR-10 Batch 4:  Loss: 0.890548050403595 Validation Accuracy: 0.6467998623847961\n",
      "Epoch 20, CIFAR-10 Batch 5:  Loss: 0.8736696243286133 Validation Accuracy: 0.6425999402999878\n",
      "Epoch 21, CIFAR-10 Batch 1:  Loss: 0.9636193513870239 Validation Accuracy: 0.626599907875061\n",
      "Epoch 21, CIFAR-10 Batch 2:  Loss: 0.8323007822036743 Validation Accuracy: 0.6359999179840088\n",
      "Epoch 21, CIFAR-10 Batch 3:  Loss: 0.8270769119262695 Validation Accuracy: 0.6319999098777771\n",
      "Epoch 21, CIFAR-10 Batch 4:  Loss: 1.0271565914154053 Validation Accuracy: 0.6393998861312866\n",
      "Epoch 21, CIFAR-10 Batch 5:  Loss: 0.787826657295227 Validation Accuracy: 0.641799807548523\n",
      "Epoch 22, CIFAR-10 Batch 1:  Loss: 0.8606045246124268 Validation Accuracy: 0.6413999199867249\n",
      "Epoch 22, CIFAR-10 Batch 2:  Loss: 0.7144811153411865 Validation Accuracy: 0.6449998617172241\n",
      "Epoch 22, CIFAR-10 Batch 3:  Loss: 0.8408674001693726 Validation Accuracy: 0.6333999037742615\n",
      "Epoch 22, CIFAR-10 Batch 4:  Loss: 0.8937088251113892 Validation Accuracy: 0.6427999138832092\n",
      "Epoch 22, CIFAR-10 Batch 5:  Loss: 0.78077232837677 Validation Accuracy: 0.6401998400688171\n",
      "Epoch 23, CIFAR-10 Batch 1:  Loss: 0.9135674238204956 Validation Accuracy: 0.6349998712539673\n",
      "Epoch 23, CIFAR-10 Batch 2:  Loss: 0.6645089387893677 Validation Accuracy: 0.6469998955726624\n",
      "Epoch 23, CIFAR-10 Batch 3:  Loss: 0.8042073249816895 Validation Accuracy: 0.6629998683929443\n",
      "Epoch 23, CIFAR-10 Batch 4:  Loss: 0.9386906027793884 Validation Accuracy: 0.6581999063491821\n",
      "Epoch 23, CIFAR-10 Batch 5:  Loss: 0.6532590985298157 Validation Accuracy: 0.6573998928070068\n",
      "Epoch 24, CIFAR-10 Batch 1:  Loss: 0.9521609544754028 Validation Accuracy: 0.6333998441696167\n",
      "Epoch 24, CIFAR-10 Batch 2:  Loss: 0.7269208431243896 Validation Accuracy: 0.6513999104499817\n",
      "Epoch 24, CIFAR-10 Batch 3:  Loss: 0.7315012812614441 Validation Accuracy: 0.6561999320983887\n",
      "Epoch 24, CIFAR-10 Batch 4:  Loss: 0.9376177191734314 Validation Accuracy: 0.6583998799324036\n",
      "Epoch 24, CIFAR-10 Batch 5:  Loss: 0.6970432996749878 Validation Accuracy: 0.6645998358726501\n",
      "Epoch 25, CIFAR-10 Batch 1:  Loss: 0.8056540489196777 Validation Accuracy: 0.650999903678894\n",
      "Epoch 25, CIFAR-10 Batch 2:  Loss: 0.6926833987236023 Validation Accuracy: 0.6529998779296875\n",
      "Epoch 25, CIFAR-10 Batch 3:  Loss: 0.8500857353210449 Validation Accuracy: 0.645599901676178\n",
      "Epoch 25, CIFAR-10 Batch 4:  Loss: 0.8336759805679321 Validation Accuracy: 0.6645998954772949\n",
      "Epoch 25, CIFAR-10 Batch 5:  Loss: 0.6891419887542725 Validation Accuracy: 0.6655998826026917\n",
      "Epoch 26, CIFAR-10 Batch 1:  Loss: 0.7715330123901367 Validation Accuracy: 0.6403999328613281\n",
      "Epoch 26, CIFAR-10 Batch 2:  Loss: 0.8431264162063599 Validation Accuracy: 0.6511999368667603\n",
      "Epoch 26, CIFAR-10 Batch 3:  Loss: 0.7381695508956909 Validation Accuracy: 0.6557998657226562\n",
      "Epoch 26, CIFAR-10 Batch 4:  Loss: 0.8465433716773987 Validation Accuracy: 0.6475998759269714\n",
      "Epoch 26, CIFAR-10 Batch 5:  Loss: 0.677914559841156 Validation Accuracy: 0.6695998907089233\n",
      "Epoch 27, CIFAR-10 Batch 1:  Loss: 0.8618831038475037 Validation Accuracy: 0.6565999388694763\n",
      "Epoch 27, CIFAR-10 Batch 2:  Loss: 0.7159902453422546 Validation Accuracy: 0.6563999056816101\n",
      "Epoch 27, CIFAR-10 Batch 3:  Loss: 0.7011522650718689 Validation Accuracy: 0.6557998657226562\n",
      "Epoch 27, CIFAR-10 Batch 4:  Loss: 0.8667361736297607 Validation Accuracy: 0.6663999557495117\n",
      "Epoch 27, CIFAR-10 Batch 5:  Loss: 0.5666144490242004 Validation Accuracy: 0.6647998690605164\n",
      "Epoch 28, CIFAR-10 Batch 1:  Loss: 0.7347008585929871 Validation Accuracy: 0.6423998475074768\n",
      "Epoch 28, CIFAR-10 Batch 2:  Loss: 0.7204837799072266 Validation Accuracy: 0.6525998711585999\n",
      "Epoch 28, CIFAR-10 Batch 3:  Loss: 0.7331753373146057 Validation Accuracy: 0.662199854850769\n",
      "Epoch 28, CIFAR-10 Batch 4:  Loss: 0.8573365211486816 Validation Accuracy: 0.6613998413085938\n",
      "Epoch 28, CIFAR-10 Batch 5:  Loss: 0.5960779190063477 Validation Accuracy: 0.6641998887062073\n",
      "Epoch 29, CIFAR-10 Batch 1:  Loss: 0.7752230167388916 Validation Accuracy: 0.6525999307632446\n",
      "Epoch 29, CIFAR-10 Batch 2:  Loss: 0.7487624883651733 Validation Accuracy: 0.66159987449646\n",
      "Epoch 29, CIFAR-10 Batch 3:  Loss: 0.743800938129425 Validation Accuracy: 0.654999852180481\n",
      "Epoch 29, CIFAR-10 Batch 4:  Loss: 0.8401628732681274 Validation Accuracy: 0.6657998561859131\n",
      "Epoch 29, CIFAR-10 Batch 5:  Loss: 0.6543906927108765 Validation Accuracy: 0.6683998703956604\n",
      "Epoch 30, CIFAR-10 Batch 1:  Loss: 0.7066590785980225 Validation Accuracy: 0.6635998487472534\n",
      "Epoch 30, CIFAR-10 Batch 2:  Loss: 0.585435152053833 Validation Accuracy: 0.6699999570846558\n",
      "Epoch 30, CIFAR-10 Batch 3:  Loss: 0.6548546552658081 Validation Accuracy: 0.6729998588562012\n",
      "Epoch 30, CIFAR-10 Batch 4:  Loss: 0.7638769149780273 Validation Accuracy: 0.6645998954772949\n",
      "Epoch 30, CIFAR-10 Batch 5:  Loss: 0.5862414836883545 Validation Accuracy: 0.6781998872756958\n",
      "Epoch 31, CIFAR-10 Batch 1:  Loss: 0.7030945420265198 Validation Accuracy: 0.6725998520851135\n",
      "Epoch 31, CIFAR-10 Batch 2:  Loss: 0.6158382296562195 Validation Accuracy: 0.6645998954772949\n",
      "Epoch 31, CIFAR-10 Batch 3:  Loss: 0.6312265396118164 Validation Accuracy: 0.6747997999191284\n",
      "Epoch 31, CIFAR-10 Batch 4:  Loss: 0.7572133541107178 Validation Accuracy: 0.6693999171257019\n",
      "Epoch 31, CIFAR-10 Batch 5:  Loss: 0.5496615767478943 Validation Accuracy: 0.6645998954772949\n",
      "Epoch 32, CIFAR-10 Batch 1:  Loss: 0.7281297445297241 Validation Accuracy: 0.6703999042510986\n",
      "Epoch 32, CIFAR-10 Batch 2:  Loss: 0.670676052570343 Validation Accuracy: 0.6831998825073242\n",
      "Epoch 32, CIFAR-10 Batch 3:  Loss: 0.652484118938446 Validation Accuracy: 0.6741998791694641\n",
      "Epoch 32, CIFAR-10 Batch 4:  Loss: 0.7096142768859863 Validation Accuracy: 0.6749999523162842\n",
      "Epoch 32, CIFAR-10 Batch 5:  Loss: 0.5906436443328857 Validation Accuracy: 0.6649999022483826\n",
      "Epoch 33, CIFAR-10 Batch 1:  Loss: 0.7834294438362122 Validation Accuracy: 0.6725998520851135\n",
      "Epoch 33, CIFAR-10 Batch 2:  Loss: 0.5574392080307007 Validation Accuracy: 0.6741999387741089\n",
      "Epoch 33, CIFAR-10 Batch 3:  Loss: 0.6133570671081543 Validation Accuracy: 0.6713998913764954\n",
      "Epoch 33, CIFAR-10 Batch 4:  Loss: 0.8195010423660278 Validation Accuracy: 0.6857998967170715\n",
      "Epoch 33, CIFAR-10 Batch 5:  Loss: 0.5926923155784607 Validation Accuracy: 0.6717998385429382\n",
      "Epoch 34, CIFAR-10 Batch 1:  Loss: 0.6831064224243164 Validation Accuracy: 0.666999876499176\n",
      "Epoch 34, CIFAR-10 Batch 2:  Loss: 0.6068469882011414 Validation Accuracy: 0.6801998615264893\n",
      "Epoch 34, CIFAR-10 Batch 3:  Loss: 0.5306355357170105 Validation Accuracy: 0.6717998385429382\n",
      "Epoch 34, CIFAR-10 Batch 4:  Loss: 0.7431908845901489 Validation Accuracy: 0.6827999353408813\n",
      "Epoch 34, CIFAR-10 Batch 5:  Loss: 0.5505751371383667 Validation Accuracy: 0.6751998662948608\n",
      "Epoch 35, CIFAR-10 Batch 1:  Loss: 0.6769993901252747 Validation Accuracy: 0.6809998750686646\n",
      "Epoch 35, CIFAR-10 Batch 2:  Loss: 0.5339311361312866 Validation Accuracy: 0.6805998682975769\n",
      "Epoch 35, CIFAR-10 Batch 3:  Loss: 0.5193792581558228 Validation Accuracy: 0.674799919128418\n",
      "Epoch 35, CIFAR-10 Batch 4:  Loss: 0.8318588733673096 Validation Accuracy: 0.6747997999191284\n",
      "Epoch 35, CIFAR-10 Batch 5:  Loss: 0.6307591199874878 Validation Accuracy: 0.6609998941421509\n",
      "Epoch 36, CIFAR-10 Batch 1:  Loss: 0.6027737855911255 Validation Accuracy: 0.6729998588562012\n",
      "Epoch 36, CIFAR-10 Batch 2:  Loss: 0.49046725034713745 Validation Accuracy: 0.6833998560905457\n",
      "Epoch 36, CIFAR-10 Batch 3:  Loss: 0.5005007386207581 Validation Accuracy: 0.6853998303413391\n",
      "Epoch 36, CIFAR-10 Batch 4:  Loss: 0.6586539149284363 Validation Accuracy: 0.6825998425483704\n",
      "Epoch 36, CIFAR-10 Batch 5:  Loss: 0.4874480366706848 Validation Accuracy: 0.6815999150276184\n",
      "Epoch 37, CIFAR-10 Batch 1:  Loss: 0.620445728302002 Validation Accuracy: 0.6883997917175293\n",
      "Epoch 37, CIFAR-10 Batch 2:  Loss: 0.5043190121650696 Validation Accuracy: 0.6831998825073242\n",
      "Epoch 37, CIFAR-10 Batch 3:  Loss: 0.552764892578125 Validation Accuracy: 0.6597998738288879\n",
      "Epoch 37, CIFAR-10 Batch 4:  Loss: 0.6970624923706055 Validation Accuracy: 0.6809998750686646\n",
      "Epoch 37, CIFAR-10 Batch 5:  Loss: 0.5589510202407837 Validation Accuracy: 0.6677998900413513\n",
      "Epoch 38, CIFAR-10 Batch 1:  Loss: 0.7228338718414307 Validation Accuracy: 0.6817998290061951\n",
      "Epoch 38, CIFAR-10 Batch 2:  Loss: 0.5811676979064941 Validation Accuracy: 0.6757999062538147\n",
      "Epoch 38, CIFAR-10 Batch 3:  Loss: 0.44740551710128784 Validation Accuracy: 0.6817998886108398\n",
      "Epoch 38, CIFAR-10 Batch 4:  Loss: 0.7978246808052063 Validation Accuracy: 0.6765998601913452\n",
      "Epoch 38, CIFAR-10 Batch 5:  Loss: 0.5344684720039368 Validation Accuracy: 0.6755998134613037\n",
      "Epoch 39, CIFAR-10 Batch 1:  Loss: 0.8038774728775024 Validation Accuracy: 0.68479984998703\n",
      "Epoch 39, CIFAR-10 Batch 2:  Loss: 0.5721941590309143 Validation Accuracy: 0.6821998953819275\n",
      "Epoch 39, CIFAR-10 Batch 3:  Loss: 0.48653629422187805 Validation Accuracy: 0.6869998574256897\n",
      "Epoch 39, CIFAR-10 Batch 4:  Loss: 0.7469730973243713 Validation Accuracy: 0.675399899482727\n",
      "Epoch 39, CIFAR-10 Batch 5:  Loss: 0.5290117859840393 Validation Accuracy: 0.6893998980522156\n",
      "Epoch 40, CIFAR-10 Batch 1:  Loss: 0.7430763244628906 Validation Accuracy: 0.6821998357772827\n",
      "Epoch 40, CIFAR-10 Batch 2:  Loss: 0.5799318552017212 Validation Accuracy: 0.6879999041557312\n",
      "Epoch 40, CIFAR-10 Batch 3:  Loss: 0.42839547991752625 Validation Accuracy: 0.680199921131134\n",
      "Epoch 40, CIFAR-10 Batch 4:  Loss: 0.7181554436683655 Validation Accuracy: 0.6819998621940613\n",
      "Epoch 40, CIFAR-10 Batch 5:  Loss: 0.4410286247730255 Validation Accuracy: 0.6783998608589172\n",
      "Epoch 41, CIFAR-10 Batch 1:  Loss: 0.6220752000808716 Validation Accuracy: 0.6893998980522156\n",
      "Epoch 41, CIFAR-10 Batch 2:  Loss: 0.5219858884811401 Validation Accuracy: 0.6911998987197876\n",
      "Epoch 41, CIFAR-10 Batch 3:  Loss: 0.3738325238227844 Validation Accuracy: 0.6861998438835144\n",
      "Epoch 41, CIFAR-10 Batch 4:  Loss: 0.6464869976043701 Validation Accuracy: 0.6883998513221741\n",
      "Epoch 41, CIFAR-10 Batch 5:  Loss: 0.4763914942741394 Validation Accuracy: 0.678399920463562\n",
      "Epoch 42, CIFAR-10 Batch 1:  Loss: 0.6503469347953796 Validation Accuracy: 0.6809998750686646\n",
      "Epoch 42, CIFAR-10 Batch 2:  Loss: 0.4105548560619354 Validation Accuracy: 0.6947998404502869\n",
      "Epoch 42, CIFAR-10 Batch 3:  Loss: 0.327919602394104 Validation Accuracy: 0.6871998310089111\n",
      "Epoch 42, CIFAR-10 Batch 4:  Loss: 0.6599022746086121 Validation Accuracy: 0.6905999183654785\n",
      "Epoch 42, CIFAR-10 Batch 5:  Loss: 0.42890453338623047 Validation Accuracy: 0.6769998669624329\n",
      "Epoch 43, CIFAR-10 Batch 1:  Loss: 0.5829297304153442 Validation Accuracy: 0.6817998886108398\n",
      "Epoch 43, CIFAR-10 Batch 2:  Loss: 0.5682154893875122 Validation Accuracy: 0.697799801826477\n",
      "Epoch 43, CIFAR-10 Batch 3:  Loss: 0.37901413440704346 Validation Accuracy: 0.6997998952865601\n",
      "Epoch 43, CIFAR-10 Batch 4:  Loss: 0.6060838103294373 Validation Accuracy: 0.6915998458862305\n",
      "Epoch 43, CIFAR-10 Batch 5:  Loss: 0.3413095474243164 Validation Accuracy: 0.6849998235702515\n",
      "Epoch 44, CIFAR-10 Batch 1:  Loss: 0.6061577796936035 Validation Accuracy: 0.681199848651886\n",
      "Epoch 44, CIFAR-10 Batch 2:  Loss: 0.48477283120155334 Validation Accuracy: 0.6841998100280762\n",
      "Epoch 44, CIFAR-10 Batch 3:  Loss: 0.27975380420684814 Validation Accuracy: 0.6939998865127563\n",
      "Epoch 44, CIFAR-10 Batch 4:  Loss: 0.6252127885818481 Validation Accuracy: 0.6981998682022095\n",
      "Epoch 44, CIFAR-10 Batch 5:  Loss: 0.4136936664581299 Validation Accuracy: 0.6817998886108398\n",
      "Epoch 45, CIFAR-10 Batch 1:  Loss: 0.5662050843238831 Validation Accuracy: 0.6937998533248901\n",
      "Epoch 45, CIFAR-10 Batch 2:  Loss: 0.46208783984184265 Validation Accuracy: 0.687999963760376\n",
      "Epoch 45, CIFAR-10 Batch 3:  Loss: 0.3551260232925415 Validation Accuracy: 0.6869998574256897\n",
      "Epoch 45, CIFAR-10 Batch 4:  Loss: 0.5921644568443298 Validation Accuracy: 0.6907998323440552\n",
      "Epoch 45, CIFAR-10 Batch 5:  Loss: 0.4648754298686981 Validation Accuracy: 0.6843997836112976\n",
      "Epoch 46, CIFAR-10 Batch 1:  Loss: 0.6776076555252075 Validation Accuracy: 0.6803998351097107\n",
      "Epoch 46, CIFAR-10 Batch 2:  Loss: 0.4620702266693115 Validation Accuracy: 0.6901998519897461\n",
      "Epoch 46, CIFAR-10 Batch 3:  Loss: 0.3262084722518921 Validation Accuracy: 0.6889998912811279\n",
      "Epoch 46, CIFAR-10 Batch 4:  Loss: 0.5061181783676147 Validation Accuracy: 0.6933998465538025\n",
      "Epoch 46, CIFAR-10 Batch 5:  Loss: 0.3112284243106842 Validation Accuracy: 0.686599850654602\n",
      "Epoch 47, CIFAR-10 Batch 1:  Loss: 0.5443761348724365 Validation Accuracy: 0.6963998079299927\n",
      "Epoch 47, CIFAR-10 Batch 2:  Loss: 0.4663308560848236 Validation Accuracy: 0.6977998614311218\n",
      "Epoch 47, CIFAR-10 Batch 3:  Loss: 0.39581498503685 Validation Accuracy: 0.6851998567581177\n",
      "Epoch 47, CIFAR-10 Batch 4:  Loss: 0.55744469165802 Validation Accuracy: 0.6989998817443848\n",
      "Epoch 47, CIFAR-10 Batch 5:  Loss: 0.31445062160491943 Validation Accuracy: 0.6943998336791992\n",
      "Epoch 48, CIFAR-10 Batch 1:  Loss: 0.476949542760849 Validation Accuracy: 0.6927999258041382\n",
      "Epoch 48, CIFAR-10 Batch 2:  Loss: 0.47683969140052795 Validation Accuracy: 0.694399893283844\n",
      "Epoch 48, CIFAR-10 Batch 3:  Loss: 0.37254607677459717 Validation Accuracy: 0.6923998594284058\n",
      "Epoch 48, CIFAR-10 Batch 4:  Loss: 0.554794192314148 Validation Accuracy: 0.6955998539924622\n",
      "Epoch 48, CIFAR-10 Batch 5:  Loss: 0.36418643593788147 Validation Accuracy: 0.6883998513221741\n",
      "Epoch 49, CIFAR-10 Batch 1:  Loss: 0.5994153618812561 Validation Accuracy: 0.7013998627662659\n",
      "Epoch 49, CIFAR-10 Batch 2:  Loss: 0.40287336707115173 Validation Accuracy: 0.6953998804092407\n",
      "Epoch 49, CIFAR-10 Batch 3:  Loss: 0.3561842441558838 Validation Accuracy: 0.684999942779541\n",
      "Epoch 49, CIFAR-10 Batch 4:  Loss: 0.5117967128753662 Validation Accuracy: 0.6955997943878174\n",
      "Epoch 49, CIFAR-10 Batch 5:  Loss: 0.40174931287765503 Validation Accuracy: 0.6901998519897461\n",
      "Epoch 50, CIFAR-10 Batch 1:  Loss: 0.6164388656616211 Validation Accuracy: 0.6781998872756958\n",
      "Epoch 50, CIFAR-10 Batch 2:  Loss: 0.45659804344177246 Validation Accuracy: 0.6993998289108276\n",
      "Epoch 50, CIFAR-10 Batch 3:  Loss: 0.269288569688797 Validation Accuracy: 0.6949998140335083\n",
      "Epoch 50, CIFAR-10 Batch 4:  Loss: 0.5551496744155884 Validation Accuracy: 0.6917998790740967\n",
      "Epoch 50, CIFAR-10 Batch 5:  Loss: 0.3310890197753906 Validation Accuracy: 0.6905998587608337\n",
      "Epoch 51, CIFAR-10 Batch 1:  Loss: 0.5583016872406006 Validation Accuracy: 0.6989998817443848\n",
      "Epoch 51, CIFAR-10 Batch 2:  Loss: 0.49410027265548706 Validation Accuracy: 0.6975998878479004\n",
      "Epoch 51, CIFAR-10 Batch 3:  Loss: 0.32644081115722656 Validation Accuracy: 0.6951999068260193\n",
      "Epoch 51, CIFAR-10 Batch 4:  Loss: 0.5522666573524475 Validation Accuracy: 0.6795998811721802\n",
      "Epoch 51, CIFAR-10 Batch 5:  Loss: 0.48837465047836304 Validation Accuracy: 0.680199921131134\n",
      "Epoch 52, CIFAR-10 Batch 1:  Loss: 0.49065887928009033 Validation Accuracy: 0.6767998337745667\n",
      "Epoch 52, CIFAR-10 Batch 2:  Loss: 0.4266505837440491 Validation Accuracy: 0.6915999054908752\n",
      "Epoch 52, CIFAR-10 Batch 3:  Loss: 0.34226664900779724 Validation Accuracy: 0.6855998039245605\n",
      "Epoch 52, CIFAR-10 Batch 4:  Loss: 0.4886309504508972 Validation Accuracy: 0.6921998262405396\n",
      "Epoch 52, CIFAR-10 Batch 5:  Loss: 0.32704421877861023 Validation Accuracy: 0.6881998777389526\n",
      "Epoch 53, CIFAR-10 Batch 1:  Loss: 0.6052149534225464 Validation Accuracy: 0.6905998587608337\n",
      "Epoch 53, CIFAR-10 Batch 2:  Loss: 0.41227126121520996 Validation Accuracy: 0.6879998445510864\n",
      "Epoch 53, CIFAR-10 Batch 3:  Loss: 0.46616435050964355 Validation Accuracy: 0.6721999049186707\n",
      "Epoch 53, CIFAR-10 Batch 4:  Loss: 0.42277228832244873 Validation Accuracy: 0.7005997896194458\n",
      "Epoch 53, CIFAR-10 Batch 5:  Loss: 0.36593466997146606 Validation Accuracy: 0.6923998594284058\n",
      "Epoch 54, CIFAR-10 Batch 1:  Loss: 0.5253381729125977 Validation Accuracy: 0.6945998668670654\n",
      "Epoch 54, CIFAR-10 Batch 2:  Loss: 0.40693509578704834 Validation Accuracy: 0.6963998675346375\n",
      "Epoch 54, CIFAR-10 Batch 3:  Loss: 0.317985475063324 Validation Accuracy: 0.6923998594284058\n",
      "Epoch 54, CIFAR-10 Batch 4:  Loss: 0.5800155401229858 Validation Accuracy: 0.6845998764038086\n",
      "Epoch 54, CIFAR-10 Batch 5:  Loss: 0.3000258803367615 Validation Accuracy: 0.6905998587608337\n",
      "Epoch 55, CIFAR-10 Batch 1:  Loss: 0.5205000042915344 Validation Accuracy: 0.6917998790740967\n",
      "Epoch 55, CIFAR-10 Batch 2:  Loss: 0.39134663343429565 Validation Accuracy: 0.69899982213974\n",
      "Epoch 55, CIFAR-10 Batch 3:  Loss: 0.2960142493247986 Validation Accuracy: 0.6951999068260193\n",
      "Epoch 55, CIFAR-10 Batch 4:  Loss: 0.45725303888320923 Validation Accuracy: 0.694399893283844\n",
      "Epoch 55, CIFAR-10 Batch 5:  Loss: 0.2692205309867859 Validation Accuracy: 0.6883999109268188\n",
      "Epoch 56, CIFAR-10 Batch 1:  Loss: 0.4896385669708252 Validation Accuracy: 0.6935998797416687\n",
      "Epoch 56, CIFAR-10 Batch 2:  Loss: 0.3323413133621216 Validation Accuracy: 0.6957998871803284\n",
      "Epoch 56, CIFAR-10 Batch 3:  Loss: 0.3091963529586792 Validation Accuracy: 0.6899998188018799\n",
      "Epoch 56, CIFAR-10 Batch 4:  Loss: 0.4237633943557739 Validation Accuracy: 0.703799843788147\n",
      "Epoch 56, CIFAR-10 Batch 5:  Loss: 0.28833669424057007 Validation Accuracy: 0.6909998059272766\n",
      "Epoch 57, CIFAR-10 Batch 1:  Loss: 0.5977659225463867 Validation Accuracy: 0.686599850654602\n",
      "Epoch 57, CIFAR-10 Batch 2:  Loss: 0.40841078758239746 Validation Accuracy: 0.694399893283844\n",
      "Epoch 57, CIFAR-10 Batch 3:  Loss: 0.32253655791282654 Validation Accuracy: 0.6975998878479004\n",
      "Epoch 57, CIFAR-10 Batch 4:  Loss: 0.46245163679122925 Validation Accuracy: 0.6885999441146851\n",
      "Epoch 57, CIFAR-10 Batch 5:  Loss: 0.21610192954540253 Validation Accuracy: 0.6951998472213745\n",
      "Epoch 58, CIFAR-10 Batch 1:  Loss: 0.4992811381816864 Validation Accuracy: 0.6869997978210449\n",
      "Epoch 58, CIFAR-10 Batch 2:  Loss: 0.3620264530181885 Validation Accuracy: 0.6945998668670654\n",
      "Epoch 58, CIFAR-10 Batch 3:  Loss: 0.3465656042098999 Validation Accuracy: 0.6825998425483704\n",
      "Epoch 58, CIFAR-10 Batch 4:  Loss: 0.36844974756240845 Validation Accuracy: 0.6985998153686523\n",
      "Epoch 58, CIFAR-10 Batch 5:  Loss: 0.3157731890678406 Validation Accuracy: 0.6921998858451843\n",
      "Epoch 59, CIFAR-10 Batch 1:  Loss: 0.5865268707275391 Validation Accuracy: 0.7025998830795288\n",
      "Epoch 59, CIFAR-10 Batch 2:  Loss: 0.37932249903678894 Validation Accuracy: 0.7041998505592346\n",
      "Epoch 59, CIFAR-10 Batch 3:  Loss: 0.24640579521656036 Validation Accuracy: 0.6999998688697815\n",
      "Epoch 59, CIFAR-10 Batch 4:  Loss: 0.4349026679992676 Validation Accuracy: 0.6897999048233032\n",
      "Epoch 59, CIFAR-10 Batch 5:  Loss: 0.24214158952236176 Validation Accuracy: 0.6939998865127563\n",
      "Epoch 60, CIFAR-10 Batch 1:  Loss: 0.3979428708553314 Validation Accuracy: 0.6929998397827148\n",
      "Epoch 60, CIFAR-10 Batch 2:  Loss: 0.4194888472557068 Validation Accuracy: 0.6999999284744263\n",
      "Epoch 60, CIFAR-10 Batch 3:  Loss: 0.3056635856628418 Validation Accuracy: 0.6993998289108276\n",
      "Epoch 60, CIFAR-10 Batch 4:  Loss: 0.40798014402389526 Validation Accuracy: 0.695399820804596\n",
      "Epoch 60, CIFAR-10 Batch 5:  Loss: 0.20397286117076874 Validation Accuracy: 0.6965999007225037\n",
      "Epoch 61, CIFAR-10 Batch 1:  Loss: 0.4279560446739197 Validation Accuracy: 0.7015998959541321\n",
      "Epoch 61, CIFAR-10 Batch 2:  Loss: 0.4063246250152588 Validation Accuracy: 0.6997998356819153\n",
      "Epoch 61, CIFAR-10 Batch 3:  Loss: 0.24685709178447723 Validation Accuracy: 0.6963998675346375\n",
      "Epoch 61, CIFAR-10 Batch 4:  Loss: 0.40040886402130127 Validation Accuracy: 0.6897999048233032\n",
      "Epoch 61, CIFAR-10 Batch 5:  Loss: 0.24882489442825317 Validation Accuracy: 0.6955998539924622\n",
      "Epoch 62, CIFAR-10 Batch 1:  Loss: 0.4839854836463928 Validation Accuracy: 0.6953998804092407\n",
      "Epoch 62, CIFAR-10 Batch 2:  Loss: 0.3872240483760834 Validation Accuracy: 0.6921998262405396\n",
      "Epoch 62, CIFAR-10 Batch 3:  Loss: 0.27229684591293335 Validation Accuracy: 0.6977999210357666\n",
      "Epoch 62, CIFAR-10 Batch 4:  Loss: 0.30003201961517334 Validation Accuracy: 0.6899999380111694\n",
      "Epoch 62, CIFAR-10 Batch 5:  Loss: 0.24713489413261414 Validation Accuracy: 0.6789998412132263\n",
      "Epoch 63, CIFAR-10 Batch 1:  Loss: 0.41245192289352417 Validation Accuracy: 0.6965999007225037\n",
      "Epoch 63, CIFAR-10 Batch 2:  Loss: 0.4082735776901245 Validation Accuracy: 0.6963998675346375\n",
      "Epoch 63, CIFAR-10 Batch 3:  Loss: 0.23551465570926666 Validation Accuracy: 0.693199872970581\n",
      "Epoch 63, CIFAR-10 Batch 4:  Loss: 0.3763669729232788 Validation Accuracy: 0.6969999074935913\n",
      "Epoch 63, CIFAR-10 Batch 5:  Loss: 0.27238404750823975 Validation Accuracy: 0.6903998851776123\n",
      "Epoch 64, CIFAR-10 Batch 1:  Loss: 0.42567387223243713 Validation Accuracy: 0.6955998539924622\n",
      "Epoch 64, CIFAR-10 Batch 2:  Loss: 0.2831963002681732 Validation Accuracy: 0.6989998817443848\n",
      "Epoch 64, CIFAR-10 Batch 3:  Loss: 0.2758452296257019 Validation Accuracy: 0.697199821472168\n",
      "Epoch 64, CIFAR-10 Batch 4:  Loss: 0.4339325428009033 Validation Accuracy: 0.6891998648643494\n",
      "Epoch 64, CIFAR-10 Batch 5:  Loss: 0.25300395488739014 Validation Accuracy: 0.6945998668670654\n",
      "Epoch 65, CIFAR-10 Batch 1:  Loss: 0.3496854305267334 Validation Accuracy: 0.703799843788147\n",
      "Epoch 65, CIFAR-10 Batch 2:  Loss: 0.3120773434638977 Validation Accuracy: 0.6897998452186584\n",
      "Epoch 65, CIFAR-10 Batch 3:  Loss: 0.21559062600135803 Validation Accuracy: 0.7001998424530029\n",
      "Epoch 65, CIFAR-10 Batch 4:  Loss: 0.3166552782058716 Validation Accuracy: 0.6995998024940491\n",
      "Epoch 65, CIFAR-10 Batch 5:  Loss: 0.30553311109542847 Validation Accuracy: 0.6957998871803284\n",
      "Epoch 66, CIFAR-10 Batch 1:  Loss: 0.4020085334777832 Validation Accuracy: 0.7025998830795288\n",
      "Epoch 66, CIFAR-10 Batch 2:  Loss: 0.4080633521080017 Validation Accuracy: 0.6899998188018799\n",
      "Epoch 66, CIFAR-10 Batch 3:  Loss: 0.2036735862493515 Validation Accuracy: 0.6985998153686523\n",
      "Epoch 66, CIFAR-10 Batch 4:  Loss: 0.3095284104347229 Validation Accuracy: 0.6949998140335083\n",
      "Epoch 66, CIFAR-10 Batch 5:  Loss: 0.204562708735466 Validation Accuracy: 0.7019999027252197\n",
      "Epoch 67, CIFAR-10 Batch 1:  Loss: 0.40562325716018677 Validation Accuracy: 0.7063997983932495\n",
      "Epoch 67, CIFAR-10 Batch 2:  Loss: 0.2915226221084595 Validation Accuracy: 0.7023998498916626\n",
      "Epoch 67, CIFAR-10 Batch 3:  Loss: 0.2096087783575058 Validation Accuracy: 0.7013999223709106\n",
      "Epoch 67, CIFAR-10 Batch 4:  Loss: 0.3867912292480469 Validation Accuracy: 0.7015998959541321\n",
      "Epoch 67, CIFAR-10 Batch 5:  Loss: 0.2702018618583679 Validation Accuracy: 0.6983999013900757\n",
      "Epoch 68, CIFAR-10 Batch 1:  Loss: 0.43670007586479187 Validation Accuracy: 0.6897998452186584\n",
      "Epoch 68, CIFAR-10 Batch 2:  Loss: 0.2782542407512665 Validation Accuracy: 0.6967999339103699\n",
      "Epoch 68, CIFAR-10 Batch 3:  Loss: 0.20757314562797546 Validation Accuracy: 0.7045997977256775\n",
      "Epoch 68, CIFAR-10 Batch 4:  Loss: 0.3976903557777405 Validation Accuracy: 0.6915998458862305\n",
      "Epoch 68, CIFAR-10 Batch 5:  Loss: 0.24147075414657593 Validation Accuracy: 0.6969998478889465\n",
      "Epoch 69, CIFAR-10 Batch 1:  Loss: 0.3834880590438843 Validation Accuracy: 0.6973998546600342\n",
      "Epoch 69, CIFAR-10 Batch 2:  Loss: 0.3960532546043396 Validation Accuracy: 0.6939998865127563\n",
      "Epoch 69, CIFAR-10 Batch 3:  Loss: 0.18024316430091858 Validation Accuracy: 0.700799822807312\n",
      "Epoch 69, CIFAR-10 Batch 4:  Loss: 0.3336644768714905 Validation Accuracy: 0.6951997876167297\n",
      "Epoch 69, CIFAR-10 Batch 5:  Loss: 0.18598343431949615 Validation Accuracy: 0.6987998485565186\n",
      "Epoch 70, CIFAR-10 Batch 1:  Loss: 0.4795123040676117 Validation Accuracy: 0.6953998804092407\n",
      "Epoch 70, CIFAR-10 Batch 2:  Loss: 0.3426131010055542 Validation Accuracy: 0.6921998858451843\n",
      "Epoch 70, CIFAR-10 Batch 3:  Loss: 0.2131044566631317 Validation Accuracy: 0.7077998518943787\n",
      "Epoch 70, CIFAR-10 Batch 4:  Loss: 0.326881468296051 Validation Accuracy: 0.6945998668670654\n",
      "Epoch 70, CIFAR-10 Batch 5:  Loss: 0.2253984957933426 Validation Accuracy: 0.6905999183654785\n",
      "Epoch 71, CIFAR-10 Batch 1:  Loss: 0.35475048422813416 Validation Accuracy: 0.6947998404502869\n",
      "Epoch 71, CIFAR-10 Batch 2:  Loss: 0.4049570858478546 Validation Accuracy: 0.6881998777389526\n",
      "Epoch 71, CIFAR-10 Batch 3:  Loss: 0.21690067648887634 Validation Accuracy: 0.695399820804596\n",
      "Epoch 71, CIFAR-10 Batch 4:  Loss: 0.2976143956184387 Validation Accuracy: 0.6959998607635498\n",
      "Epoch 71, CIFAR-10 Batch 5:  Loss: 0.16922754049301147 Validation Accuracy: 0.6827998757362366\n",
      "Epoch 72, CIFAR-10 Batch 1:  Loss: 0.4093860983848572 Validation Accuracy: 0.7041999101638794\n",
      "Epoch 72, CIFAR-10 Batch 2:  Loss: 0.3038804531097412 Validation Accuracy: 0.6951998472213745\n",
      "Epoch 72, CIFAR-10 Batch 3:  Loss: 0.22068928182125092 Validation Accuracy: 0.7011998295783997\n",
      "Epoch 72, CIFAR-10 Batch 4:  Loss: 0.3905012011528015 Validation Accuracy: 0.6813998818397522\n",
      "Epoch 72, CIFAR-10 Batch 5:  Loss: 0.24886572360992432 Validation Accuracy: 0.6877999305725098\n",
      "Epoch 73, CIFAR-10 Batch 1:  Loss: 0.44093698263168335 Validation Accuracy: 0.699199914932251\n",
      "Epoch 73, CIFAR-10 Batch 2:  Loss: 0.316071480512619 Validation Accuracy: 0.6803998351097107\n",
      "Epoch 73, CIFAR-10 Batch 3:  Loss: 0.16097402572631836 Validation Accuracy: 0.7097998857498169\n",
      "Epoch 73, CIFAR-10 Batch 4:  Loss: 0.38379722833633423 Validation Accuracy: 0.6847999095916748\n",
      "Epoch 73, CIFAR-10 Batch 5:  Loss: 0.20829728245735168 Validation Accuracy: 0.6921998858451843\n",
      "Epoch 74, CIFAR-10 Batch 1:  Loss: 0.46372413635253906 Validation Accuracy: 0.6989998817443848\n",
      "Epoch 74, CIFAR-10 Batch 2:  Loss: 0.253485769033432 Validation Accuracy: 0.6907998323440552\n",
      "Epoch 74, CIFAR-10 Batch 3:  Loss: 0.1566833257675171 Validation Accuracy: 0.7041998505592346\n",
      "Epoch 74, CIFAR-10 Batch 4:  Loss: 0.36916854977607727 Validation Accuracy: 0.6941999197006226\n",
      "Epoch 74, CIFAR-10 Batch 5:  Loss: 0.2275000512599945 Validation Accuracy: 0.6909998655319214\n",
      "Epoch 75, CIFAR-10 Batch 1:  Loss: 0.40559548139572144 Validation Accuracy: 0.6987999081611633\n",
      "Epoch 75, CIFAR-10 Batch 2:  Loss: 0.22006645798683167 Validation Accuracy: 0.7007998824119568\n",
      "Epoch 75, CIFAR-10 Batch 3:  Loss: 0.19544169306755066 Validation Accuracy: 0.696199893951416\n",
      "Epoch 75, CIFAR-10 Batch 4:  Loss: 0.29901573061943054 Validation Accuracy: 0.696199893951416\n",
      "Epoch 75, CIFAR-10 Batch 5:  Loss: 0.22396132349967957 Validation Accuracy: 0.6931998133659363\n"
     ]
    }
   ],
   "source": [
    "\"\"\"\n",
    "DON'T MODIFY ANYTHING IN THIS CELL\n",
    "\"\"\"\n",
    "save_model_path = './image_classification'\n",
    "\n",
    "print('Training...')\n",
    "with tf.Session() as sess:\n",
    "    # Initializing the variables\n",
    "    sess.run(tf.global_variables_initializer())\n",
    "    \n",
    "    # Training cycle\n",
    "    for epoch in range(epochs):\n",
    "        # Loop over all batches\n",
    "        n_batches = 5\n",
    "        for batch_i in range(1, n_batches + 1):\n",
    "            for batch_features, batch_labels in helper.load_preprocess_training_batch(batch_i, batch_size):\n",
    "                train_neural_network(sess, optimizer, keep_probability, batch_features, batch_labels)\n",
    "            print('Epoch {:>2}, CIFAR-10 Batch {}:  '.format(epoch + 1, batch_i), end='')\n",
    "            print_stats(sess, batch_features, batch_labels, cost, accuracy)\n",
    "            \n",
    "    # Save Model\n",
    "    saver = tf.train.Saver()\n",
    "    save_path = saver.save(sess, save_model_path)"
   ]
  },
  {
   "cell_type": "markdown",
   "metadata": {
    "deletable": true,
    "editable": true
   },
   "source": [
    "# Checkpoint\n",
    "The model has been saved to disk.\n",
    "## Test Model\n",
    "Test your model against the test dataset.  This will be your final accuracy. You should have an accuracy greater than 50%. If you don't, keep tweaking the model architecture and parameters."
   ]
  },
  {
   "cell_type": "code",
   "execution_count": 21,
   "metadata": {
    "collapsed": false,
    "deletable": true,
    "editable": true
   },
   "outputs": [
    {
     "name": "stdout",
     "output_type": "stream",
     "text": [
      "Testing Accuracy: 0.693968949044586\n",
      "\n"
     ]
    },
    {
     "data": {
      "image/png": "[encoded data removed]",
      "text/plain": [
       "<matplotlib.figure.Figure at 0x7ffa6d710ef0>"
      ]
     },
     "metadata": {
      "image/png": {
       "height": 319,
       "width": 355
      }
     },
     "output_type": "display_data"
    }
   ],
   "source": [
    "\"\"\"\n",
    "DON'T MODIFY ANYTHING IN THIS CELL\n",
    "\"\"\"\n",
    "%matplotlib inline\n",
    "%config InlineBackend.figure_format = 'retina'\n",
    "\n",
    "import tensorflow as tf\n",
    "import pickle\n",
    "import helper\n",
    "import random\n",
    "\n",
    "# Set batch size if not already set\n",
    "try:\n",
    "    if batch_size:\n",
    "        pass\n",
    "except NameError:\n",
    "    batch_size = 64\n",
    "\n",
    "save_model_path = './image_classification'\n",
    "n_samples = 4\n",
    "top_n_predictions = 3\n",
    "\n",
    "def test_model():\n",
    "    \"\"\"\n",
    "    Test the saved model against the test dataset\n",
    "    \"\"\"\n",
    "\n",
    "    test_features, test_labels = pickle.load(open('preprocess_training.p', mode='rb'))\n",
    "    loaded_graph = tf.Graph()\n",
    "\n",
    "    with tf.Session(graph=loaded_graph) as sess:\n",
    "        # Load model\n",
    "        loader = tf.train.import_meta_graph(save_model_path + '.meta')\n",
    "        loader.restore(sess, save_model_path)\n",
    "\n",
    "        # Get Tensors from loaded model\n",
    "        loaded_x = loaded_graph.get_tensor_by_name('x:0')\n",
    "        loaded_y = loaded_graph.get_tensor_by_name('y:0')\n",
    "        loaded_keep_prob = loaded_graph.get_tensor_by_name('keep_prob:0')\n",
    "        loaded_logits = loaded_graph.get_tensor_by_name('logits:0')\n",
    "        loaded_acc = loaded_graph.get_tensor_by_name('accuracy:0')\n",
    "        \n",
    "        # Get accuracy in batches for memory limitations\n",
    "        test_batch_acc_total = 0\n",
    "        test_batch_count = 0\n",
    "        \n",
    "        for train_feature_batch, train_label_batch in helper.batch_features_labels(test_features, test_labels, batch_size):\n",
    "            test_batch_acc_total += sess.run(\n",
    "                loaded_acc,\n",
    "                feed_dict={loaded_x: train_feature_batch, loaded_y: train_label_batch, loaded_keep_prob: 1.0})\n",
    "            test_batch_count += 1\n",
    "\n",
    "        print('Testing Accuracy: {}\\n'.format(test_batch_acc_total/test_batch_count))\n",
    "\n",
    "        # Print Random Samples\n",
    "        random_test_features, random_test_labels = tuple(zip(*random.sample(list(zip(test_features, test_labels)), n_samples)))\n",
    "        random_test_predictions = sess.run(\n",
    "            tf.nn.top_k(tf.nn.softmax(loaded_logits), top_n_predictions),\n",
    "            feed_dict={loaded_x: random_test_features, loaded_y: random_test_labels, loaded_keep_prob: 1.0})\n",
    "        helper.display_image_predictions(random_test_features, random_test_labels, random_test_predictions)\n",
    "\n",
    "\n",
    "test_model()"
   ]
  },
  {
   "cell_type": "markdown",
   "metadata": {
    "deletable": true,
    "editable": true
   },
   "source": [
    "## Why 50-70% Accuracy?\n",
    "You might be wondering why you can't get an accuracy any higher. First things first, 50% isn't bad for a simple CNN.  Pure guessing would get you 10% accuracy. However, you might notice people are getting scores [well above 70%](http://rodrigob.github.io/are_we_there_yet/build/classification_datasets_results.html#43494641522d3130).  That's because we haven't taught you all there is to know about neural networks. We still need to cover a few more techniques.\n",
    "## Submitting This Project\n",
    "When submitting this project, make sure to run all the cells before saving the notebook.  Save the notebook file as \"dlnd_image_classification.ipynb\" and save it as a HTML file under \"File\" -> \"Download as\".  Include the \"helper.py\" and \"problem_unittests.py\" files in your submission."
   ]
  }
 ],
 "metadata": {
  "kernelspec": {
   "display_name": "Python 3",
   "language": "python",
   "name": "python3"
  },
  "language_info": {
   "codemirror_mode": {
    "name": "ipython",
    "version": 3
   },
   "file_extension": ".py",
   "mimetype": "text/x-python",
   "name": "python",
   "nbconvert_exporter": "python",
   "pygments_lexer": "ipython3",
   "version": "3.5.3"
  }
 },
 "nbformat": 4,
 "nbformat_minor": 0
}
